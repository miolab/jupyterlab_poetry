{
 "cells": [
  {
   "cell_type": "markdown",
   "metadata": {
    "tags": []
   },
   "source": [
    "# k-means method Clustering sample (Non Hierarchical Clustering)\n",
    "\n",
    "- Assigns each observation to one of the \"k\" clusters by minimizing the within-cluster sum of squares.\n",
    "- \"k\" in k-means represents the number of clusters you want to create, which needs to be specified beforehand.\n",
    "- Uses iterative refinement to improve cluster assignments.\n",
    "- Can get trapped in local minima, so often it's good to run the algorithm multiple times with different starting conditions.\n",
    "- Sensitive to the initial placement of centroids.\n",
    "  - An unfavorable start can lead to suboptimal clustering.\n",
    "- Assumes clusters to be spherical and equally sized, which might not always be the case.\n"
   ]
  },
  {
   "cell_type": "code",
   "execution_count": null,
   "metadata": {},
   "outputs": [],
   "source": [
    "%matplotlib inline\n",
    "import matplotlib.pyplot as plt\n",
    "import seaborn as sns\n",
    "import pandas as pd\n",
    "from sklearn.datasets import load_iris\n",
    "from sklearn.cluster import KMeans\n",
    "from sklearn.metrics import accuracy_score\n",
    "from sklearn.metrics import adjusted_rand_score\n"
   ]
  },
  {
   "cell_type": "code",
   "execution_count": null,
   "metadata": {},
   "outputs": [],
   "source": [
    "iris = load_iris()\n",
    "\n",
    "iris.data.shape"
   ]
  },
  {
   "cell_type": "code",
   "execution_count": null,
   "metadata": {},
   "outputs": [],
   "source": [
    "iris.target_names"
   ]
  },
  {
   "cell_type": "code",
   "execution_count": null,
   "metadata": {},
   "outputs": [],
   "source": [
    "iris.feature_names"
   ]
  },
  {
   "cell_type": "code",
   "execution_count": null,
   "metadata": {},
   "outputs": [],
   "source": [
    "\"\"\"Preparing Iris data\"\"\"\n",
    "df_iris = pd.DataFrame(\n",
    "    iris.data,\n",
    "    columns=iris.feature_names\n",
    ")\n",
    "\n",
    "display(df_iris)"
   ]
  },
  {
   "cell_type": "code",
   "execution_count": null,
   "metadata": {},
   "outputs": [],
   "source": [
    "# Display data description.\n",
    "display(df_iris.describe())"
   ]
  },
  {
   "cell_type": "code",
   "execution_count": null,
   "metadata": {},
   "outputs": [],
   "source": [
    "# Visualize feature relationships with a pair plot.\n",
    "sns.pairplot(df_iris)\n",
    "plt.show()"
   ]
  },
  {
   "cell_type": "markdown",
   "metadata": {},
   "source": [
    "Midway Result Discussion \n",
    "- The __correlation trend__ between PETAL and WIDTH can be confirmed.\n",
    "\n",
    "Data preprocessing is completed here by preparing and understanding the data."
   ]
  },
  {
   "cell_type": "code",
   "execution_count": null,
   "metadata": {},
   "outputs": [],
   "source": [
    "\"\"\"Apply k-means clustering.\"\"\"\n",
    "model = KMeans(\n",
    "    # cluster length\n",
    "    n_clusters=3,\n",
    "    # random seed: for fix the result every time.\n",
    "    random_state=0,\n",
    "    # way of initialize the cluster center.(random)\n",
    "    init='random',\n",
    "    n_init=10\n",
    ")\n",
    "\n",
    "# Clustering model building.\n",
    "model.fit(df_iris)"
   ]
  },
  {
   "cell_type": "code",
   "execution_count": null,
   "metadata": {},
   "outputs": [],
   "source": [
    "model.predict(df_iris)"
   ]
  },
  {
   "cell_type": "code",
   "execution_count": null,
   "metadata": {},
   "outputs": [],
   "source": [
    "df_iris['cluster'] = model.predict(df_iris)"
   ]
  },
  {
   "cell_type": "code",
   "execution_count": null,
   "metadata": {
    "tags": []
   },
   "outputs": [],
   "source": [
    "# Visualize clustering results.\n",
    "sns.pairplot(df_iris, hue='cluster')\n",
    "plt.show()"
   ]
  },
  {
   "cell_type": "code",
   "execution_count": null,
   "metadata": {},
   "outputs": [],
   "source": [
    "# Display cluster centers from the created model.\n",
    "cluster_center = pd.DataFrame(\n",
    "    # obtain each cluster center\n",
    "    model.cluster_centers_\n",
    ")\n",
    "display(cluster_center)"
   ]
  },
  {
   "cell_type": "code",
   "execution_count": null,
   "metadata": {},
   "outputs": [],
   "source": [
    "cluster_center.columns = df_iris.columns[:4]\n",
    "display(cluster_center)"
   ]
  },
  {
   "cell_type": "code",
   "execution_count": null,
   "metadata": {},
   "outputs": [],
   "source": [
    "column_name_sepal_length: str = 'sepal length (cm)'\n",
    "column_name_width_length: str = 'sepal width (cm)'\n",
    "\n",
    "plt.scatter(\n",
    "    df_iris[column_name_sepal_length],\n",
    "    df_iris[column_name_width_length],\n",
    "    c=df_iris['cluster']\n",
    ")\n",
    "# Show each cluseter center\n",
    "plt.scatter(\n",
    "    cluster_center[column_name_sepal_length],\n",
    "    cluster_center[column_name_width_length],\n",
    "    marker='*',\n",
    "    color='red'\n",
    ")\n",
    "plt.xlabel(column_name_sepal_length)\n",
    "plt.ylabel(column_name_width_length)\n",
    "plt.show()"
   ]
  },
  {
   "cell_type": "code",
   "execution_count": null,
   "metadata": {},
   "outputs": [],
   "source": [
    "# Display mean feature values by cluster.\n",
    "display(\n",
    "    df_iris.groupby('cluster').mean().round(3)\n",
    ")"
   ]
  },
  {
   "cell_type": "code",
   "execution_count": null,
   "metadata": {},
   "outputs": [],
   "source": [
    "# Add true labels to dataframe.\n",
    "df_iris['target'] = iris.target\n",
    "df_iris.replace(\n",
    "    {'target': {\n",
    "        0: 'setosa',\n",
    "        1: 'versicolor',\n",
    "        2: 'virginica'\n",
    "    }},\n",
    "    inplace=True\n",
    ")"
   ]
  },
  {
   "cell_type": "code",
   "execution_count": null,
   "metadata": {},
   "outputs": [],
   "source": [
    "# Display mean feature values by true label.\n",
    "display(\n",
    "    df_iris.groupby('target').mean().round(3)\n",
    ")"
   ]
  },
  {
   "cell_type": "code",
   "execution_count": null,
   "metadata": {},
   "outputs": [],
   "source": [
    "# Evaluate clustering.\n",
    "ari = adjusted_rand_score(\n",
    "    iris.target,\n",
    "    df_iris['cluster']\n",
    ")\n",
    "\n",
    "# Adusted Rand Index: ARI\n",
    "f'ARI: {ari:.2f}'"
   ]
  },
  {
   "cell_type": "code",
   "execution_count": null,
   "metadata": {},
   "outputs": [],
   "source": [
    "# Evaluate acuracy for compare with ARI.\n",
    "accuracy = accuracy_score(\n",
    "    iris.target,\n",
    "    df_iris['cluster']\n",
    ")\n",
    "\n",
    "f'Acuracy: {accuracy:.2f}'"
   ]
  },
  {
   "cell_type": "code",
   "execution_count": null,
   "metadata": {},
   "outputs": [],
   "source": [
    "\"\"\"Change init cluster center positions from random to k-means++.\"\"\"\n",
    "df_iris = pd.DataFrame(\n",
    "    iris.data,\n",
    "    columns=iris.feature_names\n",
    ")\n",
    "\n",
    "model = KMeans(\n",
    "    n_clusters=3,\n",
    "    random_state=0,\n",
    "    # Note: By default, k-means is selected.\n",
    "    init='k-means++',\n",
    "    n_init=10\n",
    ")\n",
    "cls_data = df_iris.copy()\n",
    "model.fit(cls_data)\n",
    "cls_data['cluster'] = model.predict(cls_data)\n",
    "\n",
    "sns.pairplot(cls_data, hue='cluster')\n",
    "plt.show()"
   ]
  },
  {
   "cell_type": "code",
   "execution_count": null,
   "metadata": {},
   "outputs": [],
   "source": [
    "# Evaluate.\n",
    "ari = adjusted_rand_score(\n",
    "    iris.target,\n",
    "    cls_data['cluster']\n",
    ")\n",
    "\n",
    "f'ARI: {ari:.2f}'"
   ]
  },
  {
   "cell_type": "markdown",
   "metadata": {},
   "source": [
    "- ARI was the same. Accuracy remained the same."
   ]
  },
  {
   "cell_type": "code",
   "execution_count": null,
   "metadata": {},
   "outputs": [],
   "source": [
    "model = KMeans(\n",
    "    n_clusters=2,\n",
    "    random_state=0,\n",
    "    n_init=10\n",
    ")\n",
    "cls_data = df_iris.copy()\n",
    "model.fit(cls_data)\n",
    "cls_data['cluster'] = model.predict(cls_data)\n",
    "\n",
    "sns.pairplot(cls_data, hue='cluster')\n",
    "plt.show()"
   ]
  },
  {
   "cell_type": "code",
   "execution_count": null,
   "metadata": {},
   "outputs": [],
   "source": [
    "ari = adjusted_rand_score(\n",
    "    iris.target,\n",
    "    cls_data['cluster']\n",
    ")\n",
    "\n",
    "f'ARI: {ari:.2f}'"
   ]
  },
  {
   "cell_type": "markdown",
   "metadata": {},
   "source": [
    "- ARI was found to be more accurate at 3 than at this 2 setting used."
   ]
  },
  {
   "cell_type": "code",
   "execution_count": null,
   "metadata": {},
   "outputs": [],
   "source": []
  }
 ],
 "metadata": {
  "kernelspec": {
   "display_name": "Python 3 (ipykernel)",
   "language": "python",
   "name": "python3"
  },
  "language_info": {
   "codemirror_mode": {
    "name": "ipython",
    "version": 3
   },
   "file_extension": ".py",
   "mimetype": "text/x-python",
   "name": "python",
   "nbconvert_exporter": "python",
   "pygments_lexer": "ipython3",
   "version": "3.8.16"
  },
  "vscode": {
   "interpreter": {
    "hash": "fb4bae619ef453401f58a7102ca91c26fff137291bd92d8fa14f199e362f7c48"
   }
  }
 },
 "nbformat": 4,
 "nbformat_minor": 4
}
