{
 "cells": [
  {
   "cell_type": "markdown",
   "metadata": {},
   "source": [
    "# Evaluate Classification model"
   ]
  },
  {
   "cell_type": "code",
   "execution_count": 1,
   "metadata": {},
   "outputs": [],
   "source": [
    "import pandas as pd\n",
    "from sklearn.datasets import load_breast_cancer\n",
    "from sklearn.model_selection import train_test_split\n",
    "from sklearn.ensemble import RandomForestClassifier\n",
    "\n",
    "\n",
    "LOAD_DATA = load_breast_cancer()"
   ]
  },
  {
   "cell_type": "code",
   "execution_count": 2,
   "metadata": {},
   "outputs": [
    {
     "name": "stdout",
     "output_type": "stream",
     "text": [
      "     mean radius  mean texture\n",
      "512       13.400         20.52\n",
      "457       13.210         25.25\n",
      "439       14.020         15.66\n",
      "298       14.260         18.17\n",
      "37        13.030         18.42\n",
      "..           ...           ...\n",
      "7         13.710         20.83\n",
      "408       17.990         20.66\n",
      "523       13.710         18.68\n",
      "361       13.300         21.57\n",
      "553        9.333         21.94\n",
      "\n",
      "[171 rows x 2 columns]\n"
     ]
    }
   ],
   "source": [
    "# Prepare dataset.\n",
    "df = pd.DataFrame(\n",
    "    LOAD_DATA.data,\n",
    "    columns=LOAD_DATA.feature_names\n",
    ")\n",
    "df['y'] = LOAD_DATA.target\n",
    "\n",
    "# Split the data into Explanatory and Objective variables.\n",
    "X = df[\n",
    "    ['mean radius', 'mean texture']\n",
    "]\n",
    "y = df['y']\n",
    "\n",
    "# Split dataset into training and test data.\n",
    "X_train, X_test, y_train, y_test = train_test_split(\n",
    "    X,\n",
    "    y,\n",
    "    test_size=0.3,\n",
    "    random_state=0\n",
    ")\n",
    "\n",
    "print(X_test)"
   ]
  },
  {
   "cell_type": "code",
   "execution_count": 3,
   "metadata": {},
   "outputs": [],
   "source": [
    "# Construct Random Forest classification model.\n",
    "rf_classifier = RandomForestClassifier(\n",
    "    max_depth=3,\n",
    "    random_state=0\n",
    ").fit(\n",
    "    X_train,\n",
    "    y_train\n",
    ")\n",
    "\n",
    "# Calculate predicted values.\n",
    "y_train_prediction = rf_classifier.predict(X_train)\n",
    "y_test_prediction = rf_classifier.predict(X_test)"
   ]
  },
  {
   "cell_type": "code",
   "execution_count": null,
   "metadata": {},
   "outputs": [],
   "source": []
  }
 ],
 "metadata": {
  "kernelspec": {
   "display_name": "Python 3 (ipykernel)",
   "language": "python",
   "name": "python3"
  },
  "language_info": {
   "codemirror_mode": {
    "name": "ipython",
    "version": 3
   },
   "file_extension": ".py",
   "mimetype": "text/x-python",
   "name": "python",
   "nbconvert_exporter": "python",
   "pygments_lexer": "ipython3",
   "version": "3.11.0"
  }
 },
 "nbformat": 4,
 "nbformat_minor": 4
}
