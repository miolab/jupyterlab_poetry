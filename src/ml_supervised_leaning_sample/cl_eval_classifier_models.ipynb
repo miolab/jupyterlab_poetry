{
 "cells": [
  {
   "cell_type": "markdown",
   "metadata": {},
   "source": [
    "# Evaluate Classification model\n",
    "\n",
    "- Classification model: Random Forest\n",
    "- Evaluate __Classification metrics__ scores:\n",
    "  - Accuracy Score\n",
    "    - https://scikit-learn.org/stable/modules/model_evaluation.html#accuracy-score\n",
    "    - https://scikit-learn.org/stable/modules/generated/sklearn.metrics.accuracy_score.html#sklearn.metrics.accuracy_score\n",
    "  - Confusion Matrix\n",
    "    - https://scikit-learn.org/stable/modules/model_evaluation.html#confusion-matrix\n",
    "    - https://scikit-learn.org/stable/modules/generated/sklearn.metrics.confusion_matrix.html#sklearn-metrics-confusion-matrix\n",
    "  - Precision Score\n",
    "    - https://scikit-learn.org/stable/modules/model_evaluation.html#precision-recall-f-measure-metrics\n",
    "    - https://scikit-learn.org/stable/modules/generated/sklearn.metrics.precision_score.html\n",
    "  - Recall Score\n",
    "    - https://scikit-learn.org/stable/modules/generated/sklearn.metrics.recall_score.html\n",
    "  - F1 Score\n",
    "    - https://scikit-learn.org/stable/modules/generated/sklearn.metrics.f1_score.html"
   ]
  },
  {
   "cell_type": "code",
   "execution_count": 1,
   "metadata": {},
   "outputs": [],
   "source": [
    "%matplotlib inline\n",
    "import matplotlib.pyplot as plt\n",
    "import seaborn as sns\n",
    "import pandas as pd\n",
    "from sklearn.datasets import load_breast_cancer\n",
    "from sklearn.model_selection import train_test_split\n",
    "from sklearn.ensemble import RandomForestClassifier\n",
    "\n",
    "from sklearn.metrics import accuracy_score\n",
    "from sklearn.metrics import confusion_matrix\n",
    "from sklearn.metrics import precision_score\n",
    "from sklearn.metrics import recall_score\n",
    "from sklearn.metrics import f1_score\n",
    "\n",
    "from sklearn.metrics import classification_report\n",
    "\n",
    "\n",
    "LOAD_DATA = load_breast_cancer()\n",
    "\n",
    "\n",
    "def show_metrics_scores(\n",
    "    train_metrics_score: float | str,\n",
    "    test_metrics_score: float | str,\n",
    "    title: str\n",
    ") -> None:\n",
    "    print(f'{title}')\n",
    "    print(\n",
    "        f'Train:\\n{train_metrics_score}'\n",
    "    )\n",
    "    print(\n",
    "        f'Test:\\n{test_metrics_score}'\n",
    "    )\n"
   ]
  },
  {
   "cell_type": "code",
   "execution_count": 2,
   "metadata": {},
   "outputs": [
    {
     "name": "stdout",
     "output_type": "stream",
     "text": [
      "     mean radius  mean texture\n",
      "512       13.400         20.52\n",
      "457       13.210         25.25\n",
      "439       14.020         15.66\n",
      "298       14.260         18.17\n",
      "37        13.030         18.42\n",
      "..           ...           ...\n",
      "7         13.710         20.83\n",
      "408       17.990         20.66\n",
      "523       13.710         18.68\n",
      "361       13.300         21.57\n",
      "553        9.333         21.94\n",
      "\n",
      "[171 rows x 2 columns]\n"
     ]
    }
   ],
   "source": [
    "# Prepare dataset.\n",
    "df = pd.DataFrame(\n",
    "    LOAD_DATA.data,\n",
    "    columns=LOAD_DATA.feature_names\n",
    ")\n",
    "df['y'] = LOAD_DATA.target\n",
    "\n",
    "# Split the data into Explanatory and Objective variables.\n",
    "X = df[\n",
    "    ['mean radius', 'mean texture']\n",
    "]\n",
    "y = df['y']\n",
    "\n",
    "# Split dataset into training and test data.\n",
    "X_train, X_test, y_train, y_test = train_test_split(\n",
    "    X,\n",
    "    y,\n",
    "    test_size=0.3,\n",
    "    random_state=0\n",
    ")\n",
    "\n",
    "print(X_test)"
   ]
  },
  {
   "cell_type": "code",
   "execution_count": 3,
   "metadata": {},
   "outputs": [],
   "source": [
    "# Construct Random Forest classification model.\n",
    "rf_classifier = RandomForestClassifier(\n",
    "    max_depth=3,\n",
    "    random_state=0\n",
    ").fit(\n",
    "    X_train,\n",
    "    y_train\n",
    ")\n",
    "\n",
    "# Calculate predicted values.\n",
    "y_train_prediction = rf_classifier.predict(X_train)\n",
    "y_test_prediction = rf_classifier.predict(X_test)"
   ]
  },
  {
   "cell_type": "code",
   "execution_count": 4,
   "metadata": {},
   "outputs": [
    {
     "name": "stdout",
     "output_type": "stream",
     "text": [
      "Accuracy Scores\n",
      "Train:\n",
      "0.9195979899497487\n",
      "Test:\n",
      "0.8888888888888888\n"
     ]
    }
   ],
   "source": [
    "# Check Accuracy Scores.\n",
    "train_accuracy_score = accuracy_score(\n",
    "    y_train,\n",
    "    y_train_prediction\n",
    ")\n",
    "test_accuracy_score = accuracy_score(\n",
    "    y_test,\n",
    "    y_test_prediction\n",
    ")\n",
    "\n",
    "show_metrics_scores(\n",
    "    train_accuracy_score,\n",
    "    test_accuracy_score,\n",
    "    'Accuracy Scores'\n",
    ")"
   ]
  },
  {
   "cell_type": "code",
   "execution_count": 5,
   "metadata": {},
   "outputs": [
    {
     "data": {
      "image/png": "[encoded data removed]",
      "text/plain": [
       "<Figure size 640x480 with 2 Axes>"
      ]
     },
     "metadata": {},
     "output_type": "display_data"
    }
   ],
   "source": [
    "# Check Confusion Matrix.\n",
    "matrix = confusion_matrix(\n",
    "    y_test,\n",
    "    y_test_prediction\n",
    ")\n",
    "\n",
    "sns.heatmap(\n",
    "    matrix.T,\n",
    "    square=True,\n",
    "    annot=True\n",
    ")\n",
    "plt.xlabel('True label')\n",
    "plt.ylabel('Predict label')\n",
    "plt.show()"
   ]
  },
  {
   "cell_type": "code",
   "execution_count": 6,
   "metadata": {},
   "outputs": [
    {
     "name": "stdout",
     "output_type": "stream",
     "text": [
      "Precision Scores\n",
      "Train:\n",
      "0.9534883720930233\n",
      "Test:\n",
      "0.8793103448275862\n"
     ]
    }
   ],
   "source": [
    "# Check Precision Scores.\n",
    "train_precision_score = precision_score(\n",
    "    y_train,\n",
    "    y_train_prediction,\n",
    "    pos_label=0\n",
    ")\n",
    "test_precision_score = precision_score(\n",
    "    y_test,\n",
    "    y_test_prediction,\n",
    "    pos_label=0\n",
    ")\n",
    "\n",
    "show_metrics_scores(\n",
    "    train_precision_score,\n",
    "    test_precision_score,\n",
    "    'Precision Scores'\n",
    ")"
   ]
  },
  {
   "cell_type": "code",
   "execution_count": 7,
   "metadata": {},
   "outputs": [
    {
     "name": "stdout",
     "output_type": "stream",
     "text": [
      "Recall Scores\n",
      "Train:\n",
      "0.825503355704698\n",
      "Test:\n",
      "0.8095238095238095\n"
     ]
    }
   ],
   "source": [
    "# Check Recall Scores.\n",
    "train_recall_score = recall_score(\n",
    "    y_train,\n",
    "    y_train_prediction,\n",
    "    pos_label=0\n",
    ")\n",
    "test_recall_score = recall_score(\n",
    "    y_test,\n",
    "    y_test_prediction,\n",
    "    pos_label=0\n",
    ")\n",
    "\n",
    "show_metrics_scores(\n",
    "    train_recall_score,\n",
    "    test_recall_score,\n",
    "    'Recall Scores'\n",
    ")"
   ]
  },
  {
   "cell_type": "code",
   "execution_count": 8,
   "metadata": {},
   "outputs": [
    {
     "name": "stdout",
     "output_type": "stream",
     "text": [
      "F1 Scores\n",
      "Train:\n",
      "0.8848920863309353\n",
      "Test:\n",
      "0.8429752066115702\n"
     ]
    }
   ],
   "source": [
    "# Check F1 Scores.\n",
    "train_f1_score = f1_score(\n",
    "    y_train,\n",
    "    y_train_prediction,\n",
    "    pos_label=0\n",
    ")\n",
    "test_f1_score = f1_score(\n",
    "    y_test,\n",
    "    y_test_prediction,\n",
    "    pos_label=0\n",
    ")\n",
    "\n",
    "show_metrics_scores(\n",
    "    train_f1_score,\n",
    "    test_f1_score,\n",
    "    'F1 Scores'\n",
    ")"
   ]
  },
  {
   "cell_type": "code",
   "execution_count": 9,
   "metadata": {},
   "outputs": [
    {
     "name": "stdout",
     "output_type": "stream",
     "text": [
      "Classification Report\n",
      "Train:\n",
      "              precision    recall  f1-score   support\n",
      "\n",
      "           0       0.95      0.83      0.88       149\n",
      "           1       0.90      0.98      0.94       249\n",
      "\n",
      "    accuracy                           0.92       398\n",
      "   macro avg       0.93      0.90      0.91       398\n",
      "weighted avg       0.92      0.92      0.92       398\n",
      "\n",
      "Test:\n",
      "              precision    recall  f1-score   support\n",
      "\n",
      "           0       0.88      0.81      0.84        63\n",
      "           1       0.89      0.94      0.91       108\n",
      "\n",
      "    accuracy                           0.89       171\n",
      "   macro avg       0.89      0.87      0.88       171\n",
      "weighted avg       0.89      0.89      0.89       171\n",
      "\n"
     ]
    }
   ],
   "source": [
    "# Show various classification metrics scores report.\n",
    "train_classification_report = classification_report(\n",
    "    y_train,\n",
    "    y_train_prediction\n",
    ")\n",
    "test_classification_report = classification_report(\n",
    "    y_test,\n",
    "    y_test_prediction\n",
    ")\n",
    "\n",
    "show_metrics_scores(\n",
    "    train_classification_report,\n",
    "    test_classification_report,\n",
    "    'Classification Report'\n",
    ")"
   ]
  },
  {
   "cell_type": "code",
   "execution_count": null,
   "metadata": {},
   "outputs": [],
   "source": []
  }
 ],
 "metadata": {
  "kernelspec": {
   "display_name": "Python 3 (ipykernel)",
   "language": "python",
   "name": "python3"
  },
  "language_info": {
   "codemirror_mode": {
    "name": "ipython",
    "version": 3
   },
   "file_extension": ".py",
   "mimetype": "text/x-python",
   "name": "python",
   "nbconvert_exporter": "python",
   "pygments_lexer": "ipython3",
   "version": "3.11.0"
  }
 },
 "nbformat": 4,
 "nbformat_minor": 4
}
