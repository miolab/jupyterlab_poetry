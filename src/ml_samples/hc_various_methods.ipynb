{
 "cells": [
  {
   "cell_type": "code",
   "execution_count": null,
   "metadata": {},
   "outputs": [],
   "source": [
    "\"\"\"Hierarchical Clustering samples using various methods other than Ward's method.\n",
    "\n",
    "- Single Linkage Method\n",
    "- Complete Linkage Method\n",
    "- Group Average Method\n",
    "\"\"\"\n",
    "%matplotlib inline\n",
    "import matplotlib.pyplot as plt\n",
    "from sklearn.datasets import load_iris\n",
    "from scipy.cluster.hierarchy import linkage\n",
    "from scipy.cluster.hierarchy import dendrogram\n",
    "\n",
    "\n",
    "X = load_iris().data[::10]\n",
    "\n",
    "fig = plt.figure(figsize=(6, 4))\n",
    "ax = fig.add_subplot(\n",
    "    1,\n",
    "    1,\n",
    "    1,\n",
    "    title='Iris'\n",
    ")\n",
    "plt.scatter(\n",
    "    X[:, 0],\n",
    "    X[:, 1]\n",
    ")\n",
    "\n",
    "# Number each element for use in tree diagrams.\n",
    "for i, elem in enumerate(X):\n",
    "    plt.text(\n",
    "        elem[0] + 0.01,\n",
    "        elem[1] + 0.02,\n",
    "        i\n",
    "    )\n",
    "\n",
    "plt.show()"
   ]
  },
  {
   "cell_type": "code",
   "execution_count": null,
   "metadata": {},
   "outputs": [],
   "source": [
    "def hierarchical_clustering_and_plot(method_name: str):\n",
    "    # Hierarchical clustering using scipy.\n",
    "    Z = linkage(\n",
    "        X,\n",
    "        method=method_name,\n",
    "        metric='euclidean'\n",
    "    )\n",
    "    # Plot Dendrogram.\n",
    "    fig_2, ax_2 = plt.subplots(figsize=(5, 3))\n",
    "    ax_2 = dendrogram(Z)\n",
    "    fig_2.suptitle(\n",
    "        str.capitalize(method_name)\n",
    "    )\n",
    "    fig_2.show()\n",
    "    \n",
    "    \n",
    "hierarchical_clustering_and_plot('ward')\n",
    "hierarchical_clustering_and_plot('single')"
   ]
  },
  {
   "cell_type": "markdown",
   "metadata": {},
   "source": [
    "- Single Linkage Method\n",
    "  - __Calculation amount is small__.\n",
    "  - The clusters are banded due to the decrease in cluster formation (chain effect) as the computed object is absorbed one by one into the clusters.\n",
    "    - This results in __low classification sensitivity__."
   ]
  },
  {
   "cell_type": "code",
   "execution_count": null,
   "metadata": {},
   "outputs": [],
   "source": []
  }
 ],
 "metadata": {
  "kernelspec": {
   "display_name": "Python 3 (ipykernel)",
   "language": "python",
   "name": "python3"
  },
  "language_info": {
   "codemirror_mode": {
    "name": "ipython",
    "version": 3
   },
   "file_extension": ".py",
   "mimetype": "text/x-python",
   "name": "python",
   "nbconvert_exporter": "python",
   "pygments_lexer": "ipython3",
   "version": "3.11.0"
  }
 },
 "nbformat": 4,
 "nbformat_minor": 4
}
