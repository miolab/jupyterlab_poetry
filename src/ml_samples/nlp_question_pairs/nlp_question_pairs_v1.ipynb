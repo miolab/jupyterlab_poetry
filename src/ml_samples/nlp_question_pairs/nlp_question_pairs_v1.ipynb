{
 "cells": [
  {
   "cell_type": "markdown",
   "metadata": {},
   "source": [
    "# NLP with Question Pairs (v1)\n",
    "\n",
    "ML Sample of Natural Language Processing.\n",
    "\n",
    "- For environment test and confirmation.\n",
    "\n",
    "## Dataset\n",
    "\n",
    "Quora Question Pairs\n",
    "> Can you identify question pairs that have the same intent?\n",
    "\n",
    "https://www.kaggle.com/competitions/quora-question-pairs/overview"
   ]
  },
  {
   "cell_type": "code",
   "execution_count": 1,
   "metadata": {
    "tags": []
   },
   "outputs": [],
   "source": [
    "%matplotlib inline\n",
    "import matplotlib.pyplot as plt\n",
    "import seaborn as sns\n",
    "\n",
    "import pandas as pd\n",
    "from sklearn.feature_extraction.text import TfidfVectorizer\n",
    "from sklearn.model_selection import train_test_split\n",
    "from sklearn.linear_model import LogisticRegression\n",
    "\n",
    "from sklearn.base import BaseEstimator, clone\n",
    "from sklearn.metrics import accuracy_score, confusion_matrix, classification_report, precision_score\n"
   ]
  },
  {
   "cell_type": "code",
   "execution_count": 2,
   "metadata": {
    "tags": []
   },
   "outputs": [],
   "source": [
    "# Methods preparation\n",
    "def train_model(model: BaseEstimator, X_train_data: list, y_train_data: list) -> BaseEstimator:\n",
    "    \"\"\"Train a machine learning model\n",
    "    \n",
    "    Args:\n",
    "        model: Machine learning model to be trained.\n",
    "        X_train_data, y_train_data: Training data and labels.\n",
    "        \n",
    "    Returns:\n",
    "        Trained model\n",
    "    \"\"\"\n",
    "    model_copy = clone(model)\n",
    "    model_copy.fit(X_train_data, y_train_data)\n",
    "    return model_copy\n",
    "\n",
    "\n",
    "def evaluate_trained_model(\n",
    "    model: BaseEstimator,\n",
    "    X_test_data: list,\n",
    "    y_test_data: list\n",
    ") -> None:\n",
    "    \"\"\"Evaluate a trained Machine Learning model using various metrics\n",
    "\n",
    "    This function provides:\n",
    "    - Accuracy Score: Measures how accurately the class labels are predicted.\n",
    "    - Precision Score: Evaluates how many of the items predicted as positive are actually positive.\n",
    "    - Confusion Matrix: Provides a matrix representing TP, FP, FN, TN for each class.\n",
    "    - Classification Report: Generates a detailed report including Precision, Recall, F1-score, and Support for each class.\n",
    "\n",
    "    Args:\n",
    "        model: Trained machine learning model.\n",
    "        X_test_data, y_test_data: Test data and labels.\n",
    "    \"\"\"\n",
    "    y_pred = model.predict(X_test_data)\n",
    "\n",
    "    print(f\"Evaluation: {model.__class__.__name__}\\n\")  \n",
    "    print(\"Accuracy:\", accuracy_score(y_test_data, y_pred))\n",
    "    print(\"Precision:\", precision_score(y_test_data, y_pred))\n",
    "    print(\"Confusion Matrix:\\n\", confusion_matrix(y_test_data, y_pred))\n",
    "    print(\"Classification Report:\\n\", classification_report(y_test_data, y_pred))\n"
   ]
  },
  {
   "cell_type": "code",
   "execution_count": 3,
   "metadata": {},
   "outputs": [],
   "source": [
    "pd.set_option(\"display.max_colwidth\", 80)"
   ]
  },
  {
   "cell_type": "code",
   "execution_count": 4,
   "metadata": {
    "tags": []
   },
   "outputs": [
    {
     "data": {
      "text/html": [
       "<div>\n",
       "<style scoped>\n",
       "    .dataframe tbody tr th:only-of-type {\n",
       "        vertical-align: middle;\n",
       "    }\n",
       "\n",
       "    .dataframe tbody tr th {\n",
       "        vertical-align: top;\n",
       "    }\n",
       "\n",
       "    .dataframe thead th {\n",
       "        text-align: right;\n",
       "    }\n",
       "</style>\n",
       "<table border=\"1\" class=\"dataframe\">\n",
       "  <thead>\n",
       "    <tr style=\"text-align: right;\">\n",
       "      <th></th>\n",
       "      <th>id</th>\n",
       "      <th>qid1</th>\n",
       "      <th>qid2</th>\n",
       "      <th>question1</th>\n",
       "      <th>question2</th>\n",
       "      <th>is_duplicate</th>\n",
       "    </tr>\n",
       "  </thead>\n",
       "  <tbody>\n",
       "    <tr>\n",
       "      <th>0</th>\n",
       "      <td>0</td>\n",
       "      <td>1</td>\n",
       "      <td>2</td>\n",
       "      <td>What is the step by step guide to invest in share market in india?</td>\n",
       "      <td>What is the step by step guide to invest in share market?</td>\n",
       "      <td>0</td>\n",
       "    </tr>\n",
       "    <tr>\n",
       "      <th>1</th>\n",
       "      <td>1</td>\n",
       "      <td>3</td>\n",
       "      <td>4</td>\n",
       "      <td>What is the story of Kohinoor (Koh-i-Noor) Diamond?</td>\n",
       "      <td>What would happen if the Indian government stole the Kohinoor (Koh-i-Noor) d...</td>\n",
       "      <td>0</td>\n",
       "    </tr>\n",
       "    <tr>\n",
       "      <th>2</th>\n",
       "      <td>2</td>\n",
       "      <td>5</td>\n",
       "      <td>6</td>\n",
       "      <td>How can I increase the speed of my internet connection while using a VPN?</td>\n",
       "      <td>How can Internet speed be increased by hacking through DNS?</td>\n",
       "      <td>0</td>\n",
       "    </tr>\n",
       "    <tr>\n",
       "      <th>3</th>\n",
       "      <td>3</td>\n",
       "      <td>7</td>\n",
       "      <td>8</td>\n",
       "      <td>Why am I mentally very lonely? How can I solve it?</td>\n",
       "      <td>Find the remainder when [math]23^{24}[/math] is divided by 24,23?</td>\n",
       "      <td>0</td>\n",
       "    </tr>\n",
       "    <tr>\n",
       "      <th>4</th>\n",
       "      <td>4</td>\n",
       "      <td>9</td>\n",
       "      <td>10</td>\n",
       "      <td>Which one dissolve in water quikly sugar, salt, methane and carbon di oxide?</td>\n",
       "      <td>Which fish would survive in salt water?</td>\n",
       "      <td>0</td>\n",
       "    </tr>\n",
       "    <tr>\n",
       "      <th>5</th>\n",
       "      <td>5</td>\n",
       "      <td>11</td>\n",
       "      <td>12</td>\n",
       "      <td>Astrology: I am a Capricorn Sun Cap moon and cap rising...what does that say...</td>\n",
       "      <td>I'm a triple Capricorn (Sun, Moon and ascendant in Capricorn) What does this...</td>\n",
       "      <td>1</td>\n",
       "    </tr>\n",
       "    <tr>\n",
       "      <th>6</th>\n",
       "      <td>6</td>\n",
       "      <td>13</td>\n",
       "      <td>14</td>\n",
       "      <td>Should I buy tiago?</td>\n",
       "      <td>What keeps childern active and far from phone and video games?</td>\n",
       "      <td>0</td>\n",
       "    </tr>\n",
       "    <tr>\n",
       "      <th>7</th>\n",
       "      <td>7</td>\n",
       "      <td>15</td>\n",
       "      <td>16</td>\n",
       "      <td>How can I be a good geologist?</td>\n",
       "      <td>What should I do to be a great geologist?</td>\n",
       "      <td>1</td>\n",
       "    </tr>\n",
       "    <tr>\n",
       "      <th>8</th>\n",
       "      <td>8</td>\n",
       "      <td>17</td>\n",
       "      <td>18</td>\n",
       "      <td>When do you use シ instead of し?</td>\n",
       "      <td>When do you use \"&amp;\" instead of \"and\"?</td>\n",
       "      <td>0</td>\n",
       "    </tr>\n",
       "    <tr>\n",
       "      <th>9</th>\n",
       "      <td>9</td>\n",
       "      <td>19</td>\n",
       "      <td>20</td>\n",
       "      <td>Motorola (company): Can I hack my Charter Motorolla DCX3400?</td>\n",
       "      <td>How do I hack Motorola DCX3400 for free internet?</td>\n",
       "      <td>0</td>\n",
       "    </tr>\n",
       "  </tbody>\n",
       "</table>\n",
       "</div>"
      ],
      "text/plain": [
       "   id  qid1  qid2  \\\n",
       "0   0     1     2   \n",
       "1   1     3     4   \n",
       "2   2     5     6   \n",
       "3   3     7     8   \n",
       "4   4     9    10   \n",
       "5   5    11    12   \n",
       "6   6    13    14   \n",
       "7   7    15    16   \n",
       "8   8    17    18   \n",
       "9   9    19    20   \n",
       "\n",
       "                                                                         question1  \\\n",
       "0               What is the step by step guide to invest in share market in india?   \n",
       "1                              What is the story of Kohinoor (Koh-i-Noor) Diamond?   \n",
       "2        How can I increase the speed of my internet connection while using a VPN?   \n",
       "3                               Why am I mentally very lonely? How can I solve it?   \n",
       "4     Which one dissolve in water quikly sugar, salt, methane and carbon di oxide?   \n",
       "5  Astrology: I am a Capricorn Sun Cap moon and cap rising...what does that say...   \n",
       "6                                                              Should I buy tiago?   \n",
       "7                                                   How can I be a good geologist?   \n",
       "8                                                  When do you use シ instead of し?   \n",
       "9                     Motorola (company): Can I hack my Charter Motorolla DCX3400?   \n",
       "\n",
       "                                                                         question2  \\\n",
       "0                        What is the step by step guide to invest in share market?   \n",
       "1  What would happen if the Indian government stole the Kohinoor (Koh-i-Noor) d...   \n",
       "2                      How can Internet speed be increased by hacking through DNS?   \n",
       "3                Find the remainder when [math]23^{24}[/math] is divided by 24,23?   \n",
       "4                                          Which fish would survive in salt water?   \n",
       "5  I'm a triple Capricorn (Sun, Moon and ascendant in Capricorn) What does this...   \n",
       "6                   What keeps childern active and far from phone and video games?   \n",
       "7                                        What should I do to be a great geologist?   \n",
       "8                                            When do you use \"&\" instead of \"and\"?   \n",
       "9                                How do I hack Motorola DCX3400 for free internet?   \n",
       "\n",
       "   is_duplicate  \n",
       "0             0  \n",
       "1             0  \n",
       "2             0  \n",
       "3             0  \n",
       "4             0  \n",
       "5             1  \n",
       "6             0  \n",
       "7             1  \n",
       "8             0  \n",
       "9             0  "
      ]
     },
     "metadata": {},
     "output_type": "display_data"
    }
   ],
   "source": [
    "# Load Train Dataset\n",
    "df_train = pd.read_csv(\n",
    "    './raw_data/train.csv',\n",
    "    na_filter=False\n",
    ")\n",
    "\n",
    "display(df_train.head(10))"
   ]
  },
  {
   "cell_type": "code",
   "execution_count": 5,
   "metadata": {
    "tags": []
   },
   "outputs": [
    {
     "data": {
      "image/png": "[encoded data removed]",
      "text/plain": [
       "<Figure size 600x400 with 1 Axes>"
      ]
     },
     "metadata": {},
     "output_type": "display_data"
    }
   ],
   "source": [
    "# Plot distribution of target\n",
    "plt.figure(figsize=(6, 4))\n",
    "sns.countplot(\n",
    "    data=df_train, x='is_duplicate'\n",
    ")\n",
    "plt.title('Distribution of is_duplicate')\n",
    "plt.show()"
   ]
  },
  {
   "cell_type": "code",
   "execution_count": 6,
   "metadata": {
    "tags": []
   },
   "outputs": [
    {
     "data": {
      "text/plain": [
       "0.369197853026293"
      ]
     },
     "execution_count": 6,
     "metadata": {},
     "output_type": "execute_result"
    }
   ],
   "source": [
    "# Check Dataset: mean of is_duplicate\n",
    "df_train[\"is_duplicate\"].mean()"
   ]
  },
  {
   "cell_type": "code",
   "execution_count": 7,
   "metadata": {
    "tags": []
   },
   "outputs": [
    {
     "name": "stdout",
     "output_type": "stream",
     "text": [
      "Unique question: 537362\n",
      "Questions appears more than one: 111873\n"
     ]
    }
   ],
   "source": [
    "# Check Dataset: interrogative questions appears more than one.\n",
    "_questions = pd.Series(\n",
    "    df_train[\"question1\"].tolist() + df_train[\"question2\"].tolist()\n",
    ")\n",
    "\n",
    "questions_counts = _questions.value_counts()\n",
    "\n",
    "print(f\"Unique question: {_questions.nunique()}\")\n",
    "print(f\"Questions appears more than one: {(questions_counts > 1).sum()}\")"
   ]
  },
  {
   "cell_type": "code",
   "execution_count": 8,
   "metadata": {
    "tags": []
   },
   "outputs": [
    {
     "data": {
      "image/png": "[encoded data removed]",
      "text/plain": [
       "<Figure size 640x480 with 1 Axes>"
      ]
     },
     "metadata": {},
     "output_type": "display_data"
    }
   ],
   "source": [
    "# Plot distribution of the number of each question occurrences\n",
    "plt.hist(\n",
    "    questions_counts,\n",
    "    bins=range(questions_counts.max() + 1)\n",
    ")\n",
    "plt.xlim(xmin=0)\n",
    "plt.xlabel(\"Number of Occurrences\")\n",
    "plt.ylabel(\"Number of Questions (Logarithmic scale)\")\n",
    "plt.yscale(\"log\")\n",
    "plt.show()"
   ]
  },
  {
   "cell_type": "code",
   "execution_count": 9,
   "metadata": {
    "tags": []
   },
   "outputs": [
    {
     "data": {
      "text/plain": [
       "0"
      ]
     },
     "execution_count": 9,
     "metadata": {},
     "output_type": "execute_result"
    }
   ],
   "source": [
    "# Check Dataset: interrogative question pairs appears more than one.\n",
    "df_train.duplicated(\n",
    "    subset=[\"question1\", \"question2\"]\n",
    ").sum()"
   ]
  },
  {
   "cell_type": "code",
   "execution_count": 10,
   "metadata": {
    "tags": []
   },
   "outputs": [
    {
     "data": {
      "text/plain": [
       "What are the best ways to lose weight?                                             161\n",
       "How can you look at someone's private Instagram account without following them?    120\n",
       "How can I lose weight quickly?                                                     111\n",
       "What's the easiest way to make money online?                                        88\n",
       "Can you see who views your Instagram?                                               79\n",
       "dtype: int64"
      ]
     },
     "execution_count": 10,
     "metadata": {},
     "output_type": "execute_result"
    }
   ],
   "source": [
    "# Check Dataset: frequent question texts\n",
    "questions_counts.head()"
   ]
  },
  {
   "cell_type": "code",
   "execution_count": 11,
   "metadata": {
    "tags": []
   },
   "outputs": [
    {
     "name": "stdout",
     "output_type": "stream",
     "text": [
      "id              0\n",
      "qid1            0\n",
      "qid2            0\n",
      "question1       0\n",
      "question2       0\n",
      "is_duplicate    0\n",
      "dtype: int64\n"
     ]
    }
   ],
   "source": [
    "# Investigate missing values\n",
    "print(df_train.isnull().sum())"
   ]
  },
  {
   "cell_type": "markdown",
   "metadata": {},
   "source": [
    "- Processing of NaN values in train dataset is NOT required."
   ]
  },
  {
   "cell_type": "code",
   "execution_count": 12,
   "metadata": {
    "tags": []
   },
   "outputs": [],
   "source": [
    "# TF-IDF Vectorization\n",
    "vectorizer = TfidfVectorizer(\n",
    "    max_df=0.5,\n",
    "    min_df=2,\n",
    "    max_features=1000\n",
    ")\n",
    "\n",
    "question1_tfidf = vectorizer.fit_transform(df_train['question1'])\n",
    "question2_tfidf = vectorizer.transform(df_train['question2'])"
   ]
  },
  {
   "cell_type": "code",
   "execution_count": 13,
   "metadata": {
    "tags": []
   },
   "outputs": [],
   "source": [
    "X = question1_tfidf - question2_tfidf\n",
    "y = df_train['is_duplicate']"
   ]
  },
  {
   "cell_type": "code",
   "execution_count": 14,
   "metadata": {
    "tags": []
   },
   "outputs": [],
   "source": [
    "# Model Building: split data\n",
    "X_train, X_val, y_train, y_val = train_test_split(\n",
    "    X,\n",
    "    y,\n",
    "    test_size=0.2,\n",
    "    random_state=42\n",
    ")"
   ]
  },
  {
   "cell_type": "code",
   "execution_count": 15,
   "metadata": {
    "tags": []
   },
   "outputs": [],
   "source": [
    "# Model Building: Instantiating a Logistic Regression model\n",
    "model_lr = LogisticRegression(max_iter=1000)"
   ]
  },
  {
   "cell_type": "code",
   "execution_count": 16,
   "metadata": {
    "tags": []
   },
   "outputs": [],
   "source": [
    "# Model Building: train model\n",
    "model_lr_v1 = train_model(model_lr, X_train, y_train)"
   ]
  },
  {
   "cell_type": "code",
   "execution_count": 17,
   "metadata": {
    "tags": []
   },
   "outputs": [
    {
     "name": "stdout",
     "output_type": "stream",
     "text": [
      "Evaluation: LogisticRegression\n",
      "\n",
      "Accuracy: 0.6214351084617478\n",
      "Precision: 0.2886519421172887\n",
      "Confusion Matrix:\n",
      " [[49869   934]\n",
      " [29676   379]]\n",
      "Classification Report:\n",
      "               precision    recall  f1-score   support\n",
      "\n",
      "           0       0.63      0.98      0.77     50803\n",
      "           1       0.29      0.01      0.02     30055\n",
      "\n",
      "    accuracy                           0.62     80858\n",
      "   macro avg       0.46      0.50      0.39     80858\n",
      "weighted avg       0.50      0.62      0.49     80858\n",
      "\n"
     ]
    }
   ],
   "source": [
    "evaluate_trained_model(\n",
    "    model_lr_v1,\n",
    "    X_val,\n",
    "    y_val\n",
    ")"
   ]
  },
  {
   "cell_type": "code",
   "execution_count": 18,
   "metadata": {
    "tags": []
   },
   "outputs": [],
   "source": [
    "# TF-IDF Vectorization v2\n",
    "vectorizer_v2 = TfidfVectorizer(\n",
    "    max_df=0.5,\n",
    "    min_df=2,\n",
    "    max_features=5000\n",
    ")\n",
    "\n",
    "question1_tfidf_v2 = vectorizer_v2.fit_transform(df_train['question1'])\n",
    "question2_tfidf_v2 = vectorizer_v2.transform(df_train['question2'])"
   ]
  },
  {
   "cell_type": "code",
   "execution_count": 19,
   "metadata": {},
   "outputs": [],
   "source": [
    "X_v2 = question1_tfidf_v2 - question2_tfidf_v2\n",
    "\n",
    "# Model Building: split data\n",
    "X_train_v2, X_val_v2, _, _ = train_test_split(\n",
    "    X_v2,\n",
    "    y,\n",
    "    test_size=0.2,\n",
    "    random_state=42\n",
    ")"
   ]
  },
  {
   "cell_type": "code",
   "execution_count": 20,
   "metadata": {},
   "outputs": [],
   "source": [
    "# Model Building: train model v2\n",
    "model_lr_v2 = train_model(model_lr, X_train_v2, y_train)"
   ]
  },
  {
   "cell_type": "code",
   "execution_count": 21,
   "metadata": {
    "tags": []
   },
   "outputs": [
    {
     "name": "stdout",
     "output_type": "stream",
     "text": [
      "Evaluation: LogisticRegression\n",
      "\n",
      "Accuracy: 0.6137178757822356\n",
      "Precision: 0.3684445436286543\n",
      "Confusion Matrix:\n",
      " [[47973  2830]\n",
      " [28404  1651]]\n",
      "Classification Report:\n",
      "               precision    recall  f1-score   support\n",
      "\n",
      "           0       0.63      0.94      0.75     50803\n",
      "           1       0.37      0.05      0.10     30055\n",
      "\n",
      "    accuracy                           0.61     80858\n",
      "   macro avg       0.50      0.50      0.43     80858\n",
      "weighted avg       0.53      0.61      0.51     80858\n",
      "\n"
     ]
    }
   ],
   "source": [
    "evaluate_trained_model(\n",
    "    model_lr_v2,\n",
    "    X_val_v2,\n",
    "    y_val\n",
    ")"
   ]
  },
  {
   "cell_type": "markdown",
   "metadata": {},
   "source": [
    "### TF-IDF Vectorization comparison\n",
    "\n",
    "- case max_features = 1000\n",
    "\n",
    "  - Accuracy: 62.14%\n",
    "  - Precision for class 1 (is_duplicate = 1): 28.87%\n",
    "  - Recall for class 1: 1% (Most duplicates not correctly identified.)\n",
    "  - F1-Score for class 1: 2%\n",
    "\n",
    "- case max_features = 5000\n",
    "\n",
    "  - Accuracy: 61.37%\n",
    "  - Precision for class 1: 36.84%\n",
    "  - Recall for class 1: 5% (Improved from forward time, but still low.)\n",
    "  - F1-Score for class 1: 10%\n",
    "\n",
    "### General Comments:\n",
    "\n",
    "  - __Number of features:__ The model with max_features = 5000 is slightly better than the model with max_features = 1000. This may be due to the ability to catch more important words and phrases.\n",
    "  - __Difficulty in detecting duplicates:__ The low recall and F1 scores for class 1 for both models indicate that this task is difficult. In particular, it seems difficult to correctly identify duplicates.\n",
    "  - __Balanced data:__ The different number of samples for class 0 and class 1 may be a contributing factor to the low performance for class 1. "
   ]
  },
  {
   "cell_type": "code",
   "execution_count": null,
   "metadata": {},
   "outputs": [],
   "source": []
  }
 ],
 "metadata": {
  "kernelspec": {
   "display_name": "Python 3 (ipykernel)",
   "language": "python",
   "name": "python3"
  },
  "language_info": {
   "codemirror_mode": {
    "name": "ipython",
    "version": 3
   },
   "file_extension": ".py",
   "mimetype": "text/x-python",
   "name": "python",
   "nbconvert_exporter": "python",
   "pygments_lexer": "ipython3",
   "version": "3.8.18"
  }
 },
 "nbformat": 4,
 "nbformat_minor": 4
}
