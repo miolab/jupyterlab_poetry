{
 "cells": [
  {
   "cell_type": "markdown",
   "metadata": {
    "tags": []
   },
   "source": [
    "# Natural Language Processing with Disaster Tweets (v4)\n",
    "\n",
    "ML Sample of NLP.\n",
    "\n",
    "## Dataset\n",
    "\n",
    "Natural Language Processing with Disaster Tweets\n",
    "\n",
    "- Predict which Tweets are about real disasters and which ones are not\n",
    "  - https://www.kaggle.com/competitions/nlp-getting-started/overview"
   ]
  },
  {
   "cell_type": "code",
   "execution_count": 1,
   "metadata": {
    "tags": []
   },
   "outputs": [
    {
     "name": "stderr",
     "output_type": "stream",
     "text": [
      "[nltk_data] Downloading package stopwords to /root/nltk_data...\n",
      "[nltk_data]   Package stopwords is already up-to-date!\n"
     ]
    },
    {
     "data": {
      "text/plain": [
       "True"
      ]
     },
     "execution_count": 1,
     "metadata": {},
     "output_type": "execute_result"
    }
   ],
   "source": [
    "import pandas as pd\n",
    "import re\n",
    "\n",
    "from nltk.corpus import stopwords\n",
    "import nltk\n",
    "\n",
    "nltk.download('stopwords')\n"
   ]
  },
  {
   "cell_type": "code",
   "execution_count": 2,
   "metadata": {
    "tags": []
   },
   "outputs": [
    {
     "name": "stdout",
     "output_type": "stream",
     "text": [
      "['i', 'me', 'my', 'myself', 'we', 'our', 'ours', 'ourselves', 'you', \"you're\", \"you've\", \"you'll\", \"you'd\", 'your', 'yours', 'yourself', 'yourselves', 'he', 'him', 'his', 'himself', 'she', \"she's\", 'her', 'hers', 'herself', 'it', \"it's\", 'its', 'itself']\n"
     ]
    }
   ],
   "source": [
    "STOPWORDS = stopwords.words('english')\n",
    "\n",
    "print(STOPWORDS[:30])"
   ]
  },
  {
   "cell_type": "code",
   "execution_count": 3,
   "metadata": {
    "tags": []
   },
   "outputs": [],
   "source": [
    "# Methods preparation\n",
    "_REGEX_PATTERN_HASHTAG = r\"#\\w+\"\n",
    "_REGEX_PATTERN_URL = r\"http\\S+\"\n",
    "_REGEX_PATTERN_MENTION = r\"@\\w+\"\n",
    "\n",
    "\n",
    "def count_words_in_text(text: str) -> int:\n",
    "    \"\"\"Count the number of words in the given text.\"\"\"\n",
    "    return len(text.split())\n",
    "\n",
    "\n",
    "def count_stopwords_in_text(text: str) -> int:\n",
    "    \"\"\"Count the number of stopwords in the given text.\"\"\"\n",
    "    return len([\n",
    "        word\n",
    "        for word in str(text).lower().split()\n",
    "        if word in STOPWORDS\n",
    "    ])\n",
    "\n",
    "\n",
    "def count_hashtags_in_text(text: str) -> int:\n",
    "    \"\"\"Count the number of hashtags in the given text.\"\"\"\n",
    "    return len([\n",
    "        word\n",
    "        for word in text.split()\n",
    "        if re.fullmatch(_REGEX_PATTERN_HASHTAG, word)\n",
    "    ])\n",
    "\n",
    "\n",
    "def count_urls_in_text(text: str) -> int:\n",
    "    \"\"\"Count the number of URLs in the given text.\"\"\"\n",
    "    return len([\n",
    "        word\n",
    "        for word in text.split()\n",
    "        if re.fullmatch(_REGEX_PATTERN_URL, word)\n",
    "    ])\n",
    "\n",
    "\n",
    "def count_mentions_in_text(text: str) -> int:\n",
    "    \"\"\"Count the number of mentions in the given text.\"\"\"\n",
    "    return len([\n",
    "        word\n",
    "        for word in text.split()\n",
    "        if re.fullmatch(_REGEX_PATTERN_MENTION, word)\n",
    "    ])\n",
    "\n",
    "\n",
    "def clean_text(text: str) -> str:\n",
    "    \"\"\"Clean text with remove hashtag, user name, and URL\"\"\"\n",
    "    text = re.sub(_REGEX_PATTERN_HASHTAG, \"\", text)\n",
    "    text = re.sub(_REGEX_PATTERN_URL, \"\", text)\n",
    "    text = re.sub(_REGEX_PATTERN_MENTION, \"\", text)\n",
    "    return text\n",
    "\n",
    "\n",
    "def fill_missing_keyword_and_location(df: pd.DataFrame) -> None:\n",
    "    \"\"\"Complete missing values in the 'keyword' and 'location' columns of a DataFrame\"\"\"\n",
    "    df['keyword'].fillna('unknown_keyword', inplace=True)\n",
    "    df['location'].fillna('unknown_location', inplace=True)"
   ]
  },
  {
   "cell_type": "code",
   "execution_count": 4,
   "metadata": {
    "tags": []
   },
   "outputs": [
    {
     "data": {
      "text/html": [
       "<div>\n",
       "<style scoped>\n",
       "    .dataframe tbody tr th:only-of-type {\n",
       "        vertical-align: middle;\n",
       "    }\n",
       "\n",
       "    .dataframe tbody tr th {\n",
       "        vertical-align: top;\n",
       "    }\n",
       "\n",
       "    .dataframe thead th {\n",
       "        text-align: right;\n",
       "    }\n",
       "</style>\n",
       "<table border=\"1\" class=\"dataframe\">\n",
       "  <thead>\n",
       "    <tr style=\"text-align: right;\">\n",
       "      <th></th>\n",
       "      <th>id</th>\n",
       "      <th>keyword</th>\n",
       "      <th>location</th>\n",
       "      <th>text</th>\n",
       "      <th>target</th>\n",
       "    </tr>\n",
       "  </thead>\n",
       "  <tbody>\n",
       "    <tr>\n",
       "      <th>0</th>\n",
       "      <td>1</td>\n",
       "      <td>NaN</td>\n",
       "      <td>NaN</td>\n",
       "      <td>Our Deeds are the Reason of this #earthquake M...</td>\n",
       "      <td>1</td>\n",
       "    </tr>\n",
       "    <tr>\n",
       "      <th>1</th>\n",
       "      <td>4</td>\n",
       "      <td>NaN</td>\n",
       "      <td>NaN</td>\n",
       "      <td>Forest fire near La Ronge Sask. Canada</td>\n",
       "      <td>1</td>\n",
       "    </tr>\n",
       "    <tr>\n",
       "      <th>2</th>\n",
       "      <td>5</td>\n",
       "      <td>NaN</td>\n",
       "      <td>NaN</td>\n",
       "      <td>All residents asked to 'shelter in place' are ...</td>\n",
       "      <td>1</td>\n",
       "    </tr>\n",
       "  </tbody>\n",
       "</table>\n",
       "</div>"
      ],
      "text/plain": [
       "   id keyword location                                               text  \\\n",
       "0   1     NaN      NaN  Our Deeds are the Reason of this #earthquake M...   \n",
       "1   4     NaN      NaN             Forest fire near La Ronge Sask. Canada   \n",
       "2   5     NaN      NaN  All residents asked to 'shelter in place' are ...   \n",
       "\n",
       "   target  \n",
       "0       1  \n",
       "1       1  \n",
       "2       1  "
      ]
     },
     "execution_count": 4,
     "metadata": {},
     "output_type": "execute_result"
    }
   ],
   "source": [
    "# Load Train Dataset\n",
    "df_train = pd.read_csv(\"./raw_data/train.csv\")\n",
    "\n",
    "df_train.head(3)"
   ]
  },
  {
   "cell_type": "code",
   "execution_count": 5,
   "metadata": {
    "tags": []
   },
   "outputs": [
    {
     "name": "stdout",
     "output_type": "stream",
     "text": [
      "0    13\n",
      "1     7\n",
      "2    22\n",
      "3     8\n",
      "4    16\n",
      "Name: words_count, dtype: int64\n"
     ]
    }
   ],
   "source": [
    "# EDA: count words\n",
    "df_train['words_count'] = df_train['text'].apply(count_words_in_text)\n",
    "\n",
    "print(df_train['words_count'].head())"
   ]
  },
  {
   "cell_type": "code",
   "execution_count": 6,
   "metadata": {
    "tags": []
   },
   "outputs": [
    {
     "name": "stdout",
     "output_type": "stream",
     "text": [
      "0     6\n",
      "1     0\n",
      "2    11\n",
      "3     1\n",
      "4     7\n",
      "Name: stopwords_count, dtype: int64\n"
     ]
    }
   ],
   "source": [
    "# EDA: count stopwords\n",
    "df_train['stopwords_count'] = df_train['text'].apply(count_stopwords_in_text)\n",
    "\n",
    "print(df_train['stopwords_count'].head())"
   ]
  },
  {
   "cell_type": "code",
   "execution_count": 7,
   "metadata": {
    "tags": []
   },
   "outputs": [
    {
     "name": "stdout",
     "output_type": "stream",
     "text": [
      "0       1\n",
      "1       0\n",
      "2       0\n",
      "3       1\n",
      "4       2\n",
      "       ..\n",
      "7608    0\n",
      "7609    0\n",
      "7610    0\n",
      "7611    0\n",
      "7612    0\n",
      "Name: hashtags_count, Length: 7613, dtype: int64\n",
      "The number of count debbug: 1633\n"
     ]
    }
   ],
   "source": [
    "# EDA: count hashtags\n",
    "df_train['hashtags_count'] = df_train['text'].apply(count_hashtags_in_text)\n",
    "\n",
    "print(df_train['hashtags_count'])\n",
    "\n",
    "_count_result = sum(df_train['hashtags_count'].value_counts().loc[lambda x: x.index > 0])\n",
    "print(f\"The number of count debbug: {_count_result}\")"
   ]
  },
  {
   "cell_type": "code",
   "execution_count": 8,
   "metadata": {
    "tags": []
   },
   "outputs": [
    {
     "name": "stdout",
     "output_type": "stream",
     "text": [
      "0       0\n",
      "1       0\n",
      "2       0\n",
      "3       0\n",
      "4       0\n",
      "       ..\n",
      "7608    1\n",
      "7609    0\n",
      "7610    1\n",
      "7611    0\n",
      "7612    1\n",
      "Name: urls_count, Length: 7613, dtype: int64\n",
      "The number of count debbug: 3963\n"
     ]
    }
   ],
   "source": [
    "# EDA: count URLs\n",
    "df_train['urls_count'] = df_train['text'].apply(count_urls_in_text)\n",
    "\n",
    "print(df_train['urls_count'])\n",
    "\n",
    "_count_result = sum(df_train['urls_count'].value_counts().loc[lambda x: x.index > 0])\n",
    "print(f\"The number of count debbug: {_count_result}\")"
   ]
  },
  {
   "cell_type": "code",
   "execution_count": 9,
   "metadata": {
    "tags": []
   },
   "outputs": [
    {
     "name": "stdout",
     "output_type": "stream",
     "text": [
      "0       0\n",
      "1       0\n",
      "2       0\n",
      "3       0\n",
      "4       0\n",
      "       ..\n",
      "7608    0\n",
      "7609    2\n",
      "7610    0\n",
      "7611    0\n",
      "7612    0\n",
      "Name: mentions_count, Length: 7613, dtype: int64\n",
      "The number of count debbug: 1884\n"
     ]
    }
   ],
   "source": [
    "# EDA: count mentions\n",
    "df_train['mentions_count'] = df_train['text'].apply(count_mentions_in_text)\n",
    "\n",
    "print(df_train['mentions_count'])\n",
    "\n",
    "_count_result = sum(df_train['mentions_count'].value_counts().loc[lambda x: x.index > 0])\n",
    "print(f\"The number of count debbug: {_count_result}\")"
   ]
  },
  {
   "cell_type": "code",
   "execution_count": 10,
   "metadata": {
    "tags": []
   },
   "outputs": [
    {
     "data": {
      "text/html": [
       "<div>\n",
       "<style scoped>\n",
       "    .dataframe tbody tr th:only-of-type {\n",
       "        vertical-align: middle;\n",
       "    }\n",
       "\n",
       "    .dataframe tbody tr th {\n",
       "        vertical-align: top;\n",
       "    }\n",
       "\n",
       "    .dataframe thead th {\n",
       "        text-align: right;\n",
       "    }\n",
       "</style>\n",
       "<table border=\"1\" class=\"dataframe\">\n",
       "  <thead>\n",
       "    <tr style=\"text-align: right;\">\n",
       "      <th></th>\n",
       "      <th>id</th>\n",
       "      <th>keyword</th>\n",
       "      <th>location</th>\n",
       "      <th>text</th>\n",
       "      <th>target</th>\n",
       "      <th>words_count</th>\n",
       "      <th>stopwords_count</th>\n",
       "      <th>hashtags_count</th>\n",
       "      <th>urls_count</th>\n",
       "      <th>mentions_count</th>\n",
       "    </tr>\n",
       "  </thead>\n",
       "  <tbody>\n",
       "    <tr>\n",
       "      <th>0</th>\n",
       "      <td>1</td>\n",
       "      <td>NaN</td>\n",
       "      <td>NaN</td>\n",
       "      <td>Our Deeds are the Reason of this #earthquake M...</td>\n",
       "      <td>1</td>\n",
       "      <td>13</td>\n",
       "      <td>6</td>\n",
       "      <td>1</td>\n",
       "      <td>0</td>\n",
       "      <td>0</td>\n",
       "    </tr>\n",
       "    <tr>\n",
       "      <th>1</th>\n",
       "      <td>4</td>\n",
       "      <td>NaN</td>\n",
       "      <td>NaN</td>\n",
       "      <td>Forest fire near La Ronge Sask. Canada</td>\n",
       "      <td>1</td>\n",
       "      <td>7</td>\n",
       "      <td>0</td>\n",
       "      <td>0</td>\n",
       "      <td>0</td>\n",
       "      <td>0</td>\n",
       "    </tr>\n",
       "    <tr>\n",
       "      <th>2</th>\n",
       "      <td>5</td>\n",
       "      <td>NaN</td>\n",
       "      <td>NaN</td>\n",
       "      <td>All residents asked to 'shelter in place' are ...</td>\n",
       "      <td>1</td>\n",
       "      <td>22</td>\n",
       "      <td>11</td>\n",
       "      <td>0</td>\n",
       "      <td>0</td>\n",
       "      <td>0</td>\n",
       "    </tr>\n",
       "    <tr>\n",
       "      <th>3</th>\n",
       "      <td>6</td>\n",
       "      <td>NaN</td>\n",
       "      <td>NaN</td>\n",
       "      <td>13,000 people receive #wildfires evacuation or...</td>\n",
       "      <td>1</td>\n",
       "      <td>8</td>\n",
       "      <td>1</td>\n",
       "      <td>1</td>\n",
       "      <td>0</td>\n",
       "      <td>0</td>\n",
       "    </tr>\n",
       "    <tr>\n",
       "      <th>4</th>\n",
       "      <td>7</td>\n",
       "      <td>NaN</td>\n",
       "      <td>NaN</td>\n",
       "      <td>Just got sent this photo from Ruby #Alaska as ...</td>\n",
       "      <td>1</td>\n",
       "      <td>16</td>\n",
       "      <td>7</td>\n",
       "      <td>2</td>\n",
       "      <td>0</td>\n",
       "      <td>0</td>\n",
       "    </tr>\n",
       "    <tr>\n",
       "      <th>...</th>\n",
       "      <td>...</td>\n",
       "      <td>...</td>\n",
       "      <td>...</td>\n",
       "      <td>...</td>\n",
       "      <td>...</td>\n",
       "      <td>...</td>\n",
       "      <td>...</td>\n",
       "      <td>...</td>\n",
       "      <td>...</td>\n",
       "      <td>...</td>\n",
       "    </tr>\n",
       "    <tr>\n",
       "      <th>7608</th>\n",
       "      <td>10869</td>\n",
       "      <td>NaN</td>\n",
       "      <td>NaN</td>\n",
       "      <td>Two giant cranes holding a bridge collapse int...</td>\n",
       "      <td>1</td>\n",
       "      <td>11</td>\n",
       "      <td>2</td>\n",
       "      <td>0</td>\n",
       "      <td>1</td>\n",
       "      <td>0</td>\n",
       "    </tr>\n",
       "    <tr>\n",
       "      <th>7609</th>\n",
       "      <td>10870</td>\n",
       "      <td>NaN</td>\n",
       "      <td>NaN</td>\n",
       "      <td>@aria_ahrary @TheTawniest The out of control w...</td>\n",
       "      <td>1</td>\n",
       "      <td>20</td>\n",
       "      <td>9</td>\n",
       "      <td>0</td>\n",
       "      <td>0</td>\n",
       "      <td>2</td>\n",
       "    </tr>\n",
       "    <tr>\n",
       "      <th>7610</th>\n",
       "      <td>10871</td>\n",
       "      <td>NaN</td>\n",
       "      <td>NaN</td>\n",
       "      <td>M1.94 [01:04 UTC]?5km S of Volcano Hawaii. htt...</td>\n",
       "      <td>1</td>\n",
       "      <td>8</td>\n",
       "      <td>2</td>\n",
       "      <td>0</td>\n",
       "      <td>1</td>\n",
       "      <td>0</td>\n",
       "    </tr>\n",
       "    <tr>\n",
       "      <th>7611</th>\n",
       "      <td>10872</td>\n",
       "      <td>NaN</td>\n",
       "      <td>NaN</td>\n",
       "      <td>Police investigating after an e-bike collided ...</td>\n",
       "      <td>1</td>\n",
       "      <td>19</td>\n",
       "      <td>5</td>\n",
       "      <td>0</td>\n",
       "      <td>0</td>\n",
       "      <td>0</td>\n",
       "    </tr>\n",
       "    <tr>\n",
       "      <th>7612</th>\n",
       "      <td>10873</td>\n",
       "      <td>NaN</td>\n",
       "      <td>NaN</td>\n",
       "      <td>The Latest: More Homes Razed by Northern Calif...</td>\n",
       "      <td>1</td>\n",
       "      <td>13</td>\n",
       "      <td>3</td>\n",
       "      <td>0</td>\n",
       "      <td>1</td>\n",
       "      <td>0</td>\n",
       "    </tr>\n",
       "  </tbody>\n",
       "</table>\n",
       "<p>7613 rows × 10 columns</p>\n",
       "</div>"
      ],
      "text/plain": [
       "         id keyword location  \\\n",
       "0         1     NaN      NaN   \n",
       "1         4     NaN      NaN   \n",
       "2         5     NaN      NaN   \n",
       "3         6     NaN      NaN   \n",
       "4         7     NaN      NaN   \n",
       "...     ...     ...      ...   \n",
       "7608  10869     NaN      NaN   \n",
       "7609  10870     NaN      NaN   \n",
       "7610  10871     NaN      NaN   \n",
       "7611  10872     NaN      NaN   \n",
       "7612  10873     NaN      NaN   \n",
       "\n",
       "                                                   text  target  words_count  \\\n",
       "0     Our Deeds are the Reason of this #earthquake M...       1           13   \n",
       "1                Forest fire near La Ronge Sask. Canada       1            7   \n",
       "2     All residents asked to 'shelter in place' are ...       1           22   \n",
       "3     13,000 people receive #wildfires evacuation or...       1            8   \n",
       "4     Just got sent this photo from Ruby #Alaska as ...       1           16   \n",
       "...                                                 ...     ...          ...   \n",
       "7608  Two giant cranes holding a bridge collapse int...       1           11   \n",
       "7609  @aria_ahrary @TheTawniest The out of control w...       1           20   \n",
       "7610  M1.94 [01:04 UTC]?5km S of Volcano Hawaii. htt...       1            8   \n",
       "7611  Police investigating after an e-bike collided ...       1           19   \n",
       "7612  The Latest: More Homes Razed by Northern Calif...       1           13   \n",
       "\n",
       "      stopwords_count  hashtags_count  urls_count  mentions_count  \n",
       "0                   6               1           0               0  \n",
       "1                   0               0           0               0  \n",
       "2                  11               0           0               0  \n",
       "3                   1               1           0               0  \n",
       "4                   7               2           0               0  \n",
       "...               ...             ...         ...             ...  \n",
       "7608                2               0           1               0  \n",
       "7609                9               0           0               2  \n",
       "7610                2               0           1               0  \n",
       "7611                5               0           0               0  \n",
       "7612                3               0           1               0  \n",
       "\n",
       "[7613 rows x 10 columns]"
      ]
     },
     "execution_count": 10,
     "metadata": {},
     "output_type": "execute_result"
    }
   ],
   "source": [
    "# Preprocessing: fill NaN and clean text\n",
    "\n",
    "# FIXME: temporary comment out\n",
    "\n",
    "# fill_missing_keyword_and_location(df_train)\n",
    "# df_train['text'] = df_train['text'].apply(clean_text)\n",
    "\n",
    "df_train"
   ]
  },
  {
   "cell_type": "code",
   "execution_count": null,
   "metadata": {},
   "outputs": [],
   "source": []
  }
 ],
 "metadata": {
  "kernelspec": {
   "display_name": "Python 3 (ipykernel)",
   "language": "python",
   "name": "python3"
  },
  "language_info": {
   "codemirror_mode": {
    "name": "ipython",
    "version": 3
   },
   "file_extension": ".py",
   "mimetype": "text/x-python",
   "name": "python",
   "nbconvert_exporter": "python",
   "pygments_lexer": "ipython3",
   "version": "3.8.18"
  }
 },
 "nbformat": 4,
 "nbformat_minor": 4
}
