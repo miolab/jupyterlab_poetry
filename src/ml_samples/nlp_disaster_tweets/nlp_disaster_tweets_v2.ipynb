{
 "cells": [
  {
   "cell_type": "markdown",
   "metadata": {},
   "source": [
    "# Natural Language Processing with Disaster Tweets (v2)\n",
    "\n",
    "ML Sample of NLP.\n",
    "\n",
    "## Dataset\n",
    "\n",
    "Natural Language Processing with Disaster Tweets\n",
    "\n",
    "- Predict which Tweets are about real disasters and which ones are not\n",
    "  - https://www.kaggle.com/competitions/nlp-getting-started/overview\n"
   ]
  },
  {
   "cell_type": "code",
   "execution_count": 1,
   "metadata": {
    "tags": []
   },
   "outputs": [],
   "source": [
    "import pandas as pd\n",
    "import numpy as np\n",
    "import re\n",
    "\n",
    "from sklearn.preprocessing import LabelEncoder\n",
    "from sklearn.feature_extraction.text import TfidfVectorizer\n",
    "from scipy.sparse import hstack\n",
    "from sklearn.model_selection import train_test_split\n",
    "from sklearn.base import BaseEstimator, clone\n",
    "\n",
    "from sklearn.metrics import accuracy_score, confusion_matrix, classification_report\n",
    "from sklearn.linear_model import LogisticRegression\n",
    "from sklearn.naive_bayes import MultinomialNB\n",
    "from sklearn.ensemble import RandomForestClassifier\n",
    "from sklearn.svm import SVC\n",
    "from sklearn.neighbors import KNeighborsClassifier\n"
   ]
  },
  {
   "cell_type": "code",
   "execution_count": 2,
   "metadata": {
    "tags": []
   },
   "outputs": [],
   "source": [
    "# Methods preparation\n",
    "def clean_text(text: str) -> str:\n",
    "    \"\"\"Clean text with remove hashtag, user name, and URL\"\"\"\n",
    "    text = re.sub(r\"#\\w+\", \"\", text)\n",
    "    text = re.sub(r\"http\\S+\", \"\", text)\n",
    "    text = re.sub(r\"@\\w+\", \"\", text)\n",
    "    return text\n",
    "\n",
    "\n",
    "def fill_missing_keyword_and_location(df: pd.DataFrame) -> None:\n",
    "    \"\"\"Complete missing values in the 'keyword' and 'location' columns of a DataFrame\"\"\"\n",
    "    df['keyword'].fillna('unknown_keyword', inplace=True)\n",
    "    df['location'].fillna('unknown_location', inplace=True)\n",
    "\n",
    "\n",
    "def train_model(model: BaseEstimator, X_train_data: list, y_train_data: list) -> BaseEstimator:\n",
    "    \"\"\"Train a machine learning model\n",
    "    \n",
    "    Args:\n",
    "        model: Machine learning model to be trained.\n",
    "        X_train_data, y_train_data: Training data and labels.\n",
    "        \n",
    "    Returns:\n",
    "        Trained model\n",
    "    \"\"\"\n",
    "    model_copy = clone(model)\n",
    "    model_copy.fit(X_train_data, y_train_data)\n",
    "    return model_copy\n",
    "\n",
    "\n",
    "def evaluate_trained_model(model: BaseEstimator, X_test_data: list, y_test_data: list, feature_type: str) -> None:\n",
    "    \"\"\"Evaluate a trained Machine Learning model using various metrics\n",
    "    \n",
    "    Args:\n",
    "        model: Trained machine learning model.\n",
    "        X_test_data, y_test_data: Test data and labels.\n",
    "        feature_type: Description of feature used.\n",
    "    \"\"\"\n",
    "    y_pred = model.predict(X_test_data)\n",
    "\n",
    "    print(f\"Evaluation: {model.__class__.__name__} ({feature_type})\\n\")  \n",
    "    print(\"Accuracy:\", accuracy_score(y_test_data, y_pred))\n",
    "    print(\"Confusion Matrix:\\n\", confusion_matrix(y_test_data, y_pred))\n",
    "    print(\"Classification Report:\\n\", classification_report(y_test_data, y_pred))\n"
   ]
  },
  {
   "cell_type": "code",
   "execution_count": 3,
   "metadata": {
    "tags": []
   },
   "outputs": [
    {
     "data": {
      "text/html": [
       "<div>\n",
       "<style scoped>\n",
       "    .dataframe tbody tr th:only-of-type {\n",
       "        vertical-align: middle;\n",
       "    }\n",
       "\n",
       "    .dataframe tbody tr th {\n",
       "        vertical-align: top;\n",
       "    }\n",
       "\n",
       "    .dataframe thead th {\n",
       "        text-align: right;\n",
       "    }\n",
       "</style>\n",
       "<table border=\"1\" class=\"dataframe\">\n",
       "  <thead>\n",
       "    <tr style=\"text-align: right;\">\n",
       "      <th></th>\n",
       "      <th>id</th>\n",
       "      <th>keyword</th>\n",
       "      <th>location</th>\n",
       "      <th>text</th>\n",
       "      <th>target</th>\n",
       "    </tr>\n",
       "  </thead>\n",
       "  <tbody>\n",
       "    <tr>\n",
       "      <th>0</th>\n",
       "      <td>1</td>\n",
       "      <td>NaN</td>\n",
       "      <td>NaN</td>\n",
       "      <td>Our Deeds are the Reason of this #earthquake M...</td>\n",
       "      <td>1</td>\n",
       "    </tr>\n",
       "    <tr>\n",
       "      <th>1</th>\n",
       "      <td>4</td>\n",
       "      <td>NaN</td>\n",
       "      <td>NaN</td>\n",
       "      <td>Forest fire near La Ronge Sask. Canada</td>\n",
       "      <td>1</td>\n",
       "    </tr>\n",
       "    <tr>\n",
       "      <th>2</th>\n",
       "      <td>5</td>\n",
       "      <td>NaN</td>\n",
       "      <td>NaN</td>\n",
       "      <td>All residents asked to 'shelter in place' are ...</td>\n",
       "      <td>1</td>\n",
       "    </tr>\n",
       "    <tr>\n",
       "      <th>3</th>\n",
       "      <td>6</td>\n",
       "      <td>NaN</td>\n",
       "      <td>NaN</td>\n",
       "      <td>13,000 people receive #wildfires evacuation or...</td>\n",
       "      <td>1</td>\n",
       "    </tr>\n",
       "    <tr>\n",
       "      <th>4</th>\n",
       "      <td>7</td>\n",
       "      <td>NaN</td>\n",
       "      <td>NaN</td>\n",
       "      <td>Just got sent this photo from Ruby #Alaska as ...</td>\n",
       "      <td>1</td>\n",
       "    </tr>\n",
       "  </tbody>\n",
       "</table>\n",
       "</div>"
      ],
      "text/plain": [
       "   id keyword location                                               text  \\\n",
       "0   1     NaN      NaN  Our Deeds are the Reason of this #earthquake M...   \n",
       "1   4     NaN      NaN             Forest fire near La Ronge Sask. Canada   \n",
       "2   5     NaN      NaN  All residents asked to 'shelter in place' are ...   \n",
       "3   6     NaN      NaN  13,000 people receive #wildfires evacuation or...   \n",
       "4   7     NaN      NaN  Just got sent this photo from Ruby #Alaska as ...   \n",
       "\n",
       "   target  \n",
       "0       1  \n",
       "1       1  \n",
       "2       1  \n",
       "3       1  \n",
       "4       1  "
      ]
     },
     "execution_count": 3,
     "metadata": {},
     "output_type": "execute_result"
    }
   ],
   "source": [
    "# Load Train Dataset\n",
    "df_train = pd.read_csv(\"./raw_data/train.csv\")\n",
    "\n",
    "df_train.head()"
   ]
  },
  {
   "cell_type": "code",
   "execution_count": 4,
   "metadata": {
    "tags": []
   },
   "outputs": [],
   "source": [
    "# Preprocessing: fill NaN\n",
    "fill_missing_keyword_and_location(df_train)"
   ]
  },
  {
   "cell_type": "code",
   "execution_count": 5,
   "metadata": {},
   "outputs": [
    {
     "data": {
      "text/html": [
       "<div>\n",
       "<style scoped>\n",
       "    .dataframe tbody tr th:only-of-type {\n",
       "        vertical-align: middle;\n",
       "    }\n",
       "\n",
       "    .dataframe tbody tr th {\n",
       "        vertical-align: top;\n",
       "    }\n",
       "\n",
       "    .dataframe thead th {\n",
       "        text-align: right;\n",
       "    }\n",
       "</style>\n",
       "<table border=\"1\" class=\"dataframe\">\n",
       "  <thead>\n",
       "    <tr style=\"text-align: right;\">\n",
       "      <th></th>\n",
       "      <th>id</th>\n",
       "      <th>keyword</th>\n",
       "      <th>location</th>\n",
       "      <th>text</th>\n",
       "      <th>target</th>\n",
       "    </tr>\n",
       "  </thead>\n",
       "  <tbody>\n",
       "    <tr>\n",
       "      <th>0</th>\n",
       "      <td>1</td>\n",
       "      <td>unknown_keyword</td>\n",
       "      <td>unknown_location</td>\n",
       "      <td>Our Deeds are the Reason of this  May ALLAH Fo...</td>\n",
       "      <td>1</td>\n",
       "    </tr>\n",
       "    <tr>\n",
       "      <th>1</th>\n",
       "      <td>4</td>\n",
       "      <td>unknown_keyword</td>\n",
       "      <td>unknown_location</td>\n",
       "      <td>Forest fire near La Ronge Sask. Canada</td>\n",
       "      <td>1</td>\n",
       "    </tr>\n",
       "    <tr>\n",
       "      <th>2</th>\n",
       "      <td>5</td>\n",
       "      <td>unknown_keyword</td>\n",
       "      <td>unknown_location</td>\n",
       "      <td>All residents asked to 'shelter in place' are ...</td>\n",
       "      <td>1</td>\n",
       "    </tr>\n",
       "    <tr>\n",
       "      <th>3</th>\n",
       "      <td>6</td>\n",
       "      <td>unknown_keyword</td>\n",
       "      <td>unknown_location</td>\n",
       "      <td>13,000 people receive  evacuation orders in Ca...</td>\n",
       "      <td>1</td>\n",
       "    </tr>\n",
       "    <tr>\n",
       "      <th>4</th>\n",
       "      <td>7</td>\n",
       "      <td>unknown_keyword</td>\n",
       "      <td>unknown_location</td>\n",
       "      <td>Just got sent this photo from Ruby  as smoke f...</td>\n",
       "      <td>1</td>\n",
       "    </tr>\n",
       "  </tbody>\n",
       "</table>\n",
       "</div>"
      ],
      "text/plain": [
       "   id          keyword          location  \\\n",
       "0   1  unknown_keyword  unknown_location   \n",
       "1   4  unknown_keyword  unknown_location   \n",
       "2   5  unknown_keyword  unknown_location   \n",
       "3   6  unknown_keyword  unknown_location   \n",
       "4   7  unknown_keyword  unknown_location   \n",
       "\n",
       "                                                text  target  \n",
       "0  Our Deeds are the Reason of this  May ALLAH Fo...       1  \n",
       "1             Forest fire near La Ronge Sask. Canada       1  \n",
       "2  All residents asked to 'shelter in place' are ...       1  \n",
       "3  13,000 people receive  evacuation orders in Ca...       1  \n",
       "4  Just got sent this photo from Ruby  as smoke f...       1  "
      ]
     },
     "execution_count": 5,
     "metadata": {},
     "output_type": "execute_result"
    }
   ],
   "source": [
    "# Preprocessing: clean text\n",
    "df_train['text'] = df_train['text'].apply(clean_text)\n",
    "\n",
    "df_train.head()"
   ]
  },
  {
   "cell_type": "code",
   "execution_count": 6,
   "metadata": {},
   "outputs": [],
   "source": [
    "# Feature Engineering: TF-IDF Vectorization\n",
    "vectorizer = TfidfVectorizer(max_features=5000)\n",
    "X_tfidf = vectorizer.fit_transform(df_train['text'])"
   ]
  },
  {
   "cell_type": "code",
   "execution_count": 7,
   "metadata": {
    "tags": []
   },
   "outputs": [
    {
     "name": "stdout",
     "output_type": "stream",
     "text": [
      "First 10 vocabulary items: {'our': 3172, 'are': 416, 'the': 4398, 'reason': 3563, 'of': 3101, 'this': 4419, 'may': 2809, 'allah': 300, 'us': 4627, 'all': 299}\n"
     ]
    }
   ],
   "source": [
    "# Check vectorizer vocabulary\n",
    "vocabulary = vectorizer.vocabulary_\n",
    "\n",
    "first_n_pairs = {k: vocabulary[k] for k in list(vocabulary)[:10]}\n",
    "print(\"First 10 vocabulary items:\", first_n_pairs)"
   ]
  },
  {
   "cell_type": "code",
   "execution_count": 8,
   "metadata": {
    "tags": []
   },
   "outputs": [
    {
     "data": {
      "text/plain": [
       "'Top 10 unique encoded keyword:'"
      ]
     },
     "metadata": {},
     "output_type": "display_data"
    },
    {
     "data": {
      "text/plain": [
       "206    61\n",
       "104    45\n",
       "63     42\n",
       "8      42\n",
       "177    41\n",
       "57     41\n",
       "119    41\n",
       "29     41\n",
       "95     40\n",
       "106    40\n",
       "Name: keyword_encoded, dtype: int64"
      ]
     },
     "metadata": {},
     "output_type": "display_data"
    },
    {
     "data": {
      "text/plain": [
       "'Top 10 unique encoded location:'"
      ]
     },
     "metadata": {},
     "output_type": "display_data"
    },
    {
     "data": {
      "text/plain": [
       "3268    2533\n",
       "2643     104\n",
       "1826      71\n",
       "2662      50\n",
       "1506      45\n",
       "587       29\n",
       "1860      28\n",
       "2632      27\n",
       "1534      26\n",
       "1262      24\n",
       "Name: location_encoded, dtype: int64"
      ]
     },
     "metadata": {},
     "output_type": "display_data"
    }
   ],
   "source": [
    "# Feature Engineering: Label Encoding for 'keyword' and 'location'\n",
    "label_encoder = LabelEncoder()\n",
    "df_train['keyword_encoded'] = label_encoder.fit_transform(df_train['keyword'])\n",
    "df_train['location_encoded'] = label_encoder.fit_transform(df_train['location'])\n",
    "\n",
    "display(\n",
    "    \"Top 10 unique encoded keyword:\",\n",
    "    df_train['keyword_encoded'].value_counts().head(10),\n",
    ")\n",
    "display(\n",
    "    \"Top 10 unique encoded location:\",\n",
    "    df_train['location_encoded'].value_counts().head(10)\n",
    ")"
   ]
  },
  {
   "cell_type": "code",
   "execution_count": 9,
   "metadata": {
    "tags": []
   },
   "outputs": [],
   "source": [
    "# Feature Engineering: Combine all features\n",
    "X_hstack = hstack([\n",
    "    X_tfidf,\n",
    "    df_train[['keyword_encoded', 'location_encoded']].values\n",
    "])"
   ]
  },
  {
   "cell_type": "code",
   "execution_count": 10,
   "metadata": {
    "tags": []
   },
   "outputs": [],
   "source": [
    "y = df_train['target']"
   ]
  },
  {
   "cell_type": "code",
   "execution_count": 11,
   "metadata": {
    "tags": []
   },
   "outputs": [],
   "source": [
    "# Model Building: split\n",
    "# for only TF-IDF Vectorization\n",
    "X_train_tfidf, X_test_tfidf, y_train, y_test = train_test_split(\n",
    "    X_tfidf,\n",
    "    y,\n",
    "    test_size=0.2,\n",
    "    random_state=42\n",
    ")\n",
    "# for Combine all features\n",
    "X_train_hstack, X_test_hstack, _, _ = train_test_split(\n",
    "    X_hstack,\n",
    "    y,\n",
    "    test_size=0.2,\n",
    "    random_state=42\n",
    ")"
   ]
  },
  {
   "cell_type": "code",
   "execution_count": 12,
   "metadata": {
    "tags": []
   },
   "outputs": [
    {
     "name": "stdout",
     "output_type": "stream",
     "text": [
      "Evaluation: LogisticRegression (only TF-IDF Vectorization)\n",
      "\n",
      "Accuracy: 0.8030203545633617\n",
      "Confusion Matrix:\n",
      " [[773 101]\n",
      " [199 450]]\n",
      "Classification Report:\n",
      "               precision    recall  f1-score   support\n",
      "\n",
      "           0       0.80      0.88      0.84       874\n",
      "           1       0.82      0.69      0.75       649\n",
      "\n",
      "    accuracy                           0.80      1523\n",
      "   macro avg       0.81      0.79      0.79      1523\n",
      "weighted avg       0.80      0.80      0.80      1523\n",
      "\n",
      "Evaluation: LogisticRegression (Combine all features)\n",
      "\n",
      "Accuracy: 0.8003939592908733\n",
      "Confusion Matrix:\n",
      " [[779  95]\n",
      " [209 440]]\n",
      "Classification Report:\n",
      "               precision    recall  f1-score   support\n",
      "\n",
      "           0       0.79      0.89      0.84       874\n",
      "           1       0.82      0.68      0.74       649\n",
      "\n",
      "    accuracy                           0.80      1523\n",
      "   macro avg       0.81      0.78      0.79      1523\n",
      "weighted avg       0.80      0.80      0.80      1523\n",
      "\n"
     ]
    }
   ],
   "source": [
    "# Model Building: Logistic Regression\n",
    "model_lr = LogisticRegression()\n",
    "\n",
    "# Train and evaluate model with TF-IDF features only\n",
    "model_lr_tfidf = train_model(model_lr, X_train_tfidf, y_train)\n",
    "evaluate_trained_model(\n",
    "    model_lr_tfidf,\n",
    "    X_test_tfidf,\n",
    "    y_test,\n",
    "    'only TF-IDF Vectorization'\n",
    ")\n",
    "\n",
    "# Train and evaluate model with all features\n",
    "model_lr_all_features = train_model(model_lr, X_train_hstack, y_train)\n",
    "evaluate_trained_model(\n",
    "    model_lr_all_features,\n",
    "    X_test_hstack,\n",
    "    y_test,\n",
    "    'Combine all features'\n",
    ")"
   ]
  },
  {
   "cell_type": "code",
   "execution_count": 13,
   "metadata": {
    "tags": []
   },
   "outputs": [
    {
     "name": "stdout",
     "output_type": "stream",
     "text": [
      "Evaluation: MultinomialNB (only TF-IDF Vectorization)\n",
      "\n",
      "Accuracy: 0.804333552199606\n",
      "Confusion Matrix:\n",
      " [[795  79]\n",
      " [219 430]]\n",
      "Classification Report:\n",
      "               precision    recall  f1-score   support\n",
      "\n",
      "           0       0.78      0.91      0.84       874\n",
      "           1       0.84      0.66      0.74       649\n",
      "\n",
      "    accuracy                           0.80      1523\n",
      "   macro avg       0.81      0.79      0.79      1523\n",
      "weighted avg       0.81      0.80      0.80      1523\n",
      "\n",
      "Evaluation: MultinomialNB (Combine all features)\n",
      "\n",
      "Accuracy: 0.6060407091267236\n",
      "Confusion Matrix:\n",
      " [[568 306]\n",
      " [294 355]]\n",
      "Classification Report:\n",
      "               precision    recall  f1-score   support\n",
      "\n",
      "           0       0.66      0.65      0.65       874\n",
      "           1       0.54      0.55      0.54       649\n",
      "\n",
      "    accuracy                           0.61      1523\n",
      "   macro avg       0.60      0.60      0.60      1523\n",
      "weighted avg       0.61      0.61      0.61      1523\n",
      "\n"
     ]
    }
   ],
   "source": [
    "# Model Building: Multinomial Naive Bayes\n",
    "model_nb = MultinomialNB()\n",
    "\n",
    "# Train and evaluate model with TF-IDF features only\n",
    "model_nb_tfidf = train_model(model_nb, X_train_tfidf, y_train)\n",
    "evaluate_trained_model(\n",
    "    model_nb_tfidf,\n",
    "    X_test_tfidf,\n",
    "    y_test,\n",
    "    'only TF-IDF Vectorization'\n",
    ")\n",
    "\n",
    "# Train and evaluate model with all features\n",
    "model_nb_all_features = train_model(model_nb, X_train_hstack, y_train)\n",
    "evaluate_trained_model(\n",
    "    model_nb_all_features,\n",
    "    X_test_hstack,\n",
    "    y_test,\n",
    "    'Combine all features'\n",
    ")"
   ]
  },
  {
   "cell_type": "code",
   "execution_count": 14,
   "metadata": {
    "tags": []
   },
   "outputs": [
    {
     "name": "stdout",
     "output_type": "stream",
     "text": [
      "Evaluation: RandomForestClassifier (only TF-IDF Vectorization)\n",
      "\n",
      "Accuracy: 0.7852921864740644\n",
      "Confusion Matrix:\n",
      " [[779  95]\n",
      " [232 417]]\n",
      "Classification Report:\n",
      "               precision    recall  f1-score   support\n",
      "\n",
      "           0       0.77      0.89      0.83       874\n",
      "           1       0.81      0.64      0.72       649\n",
      "\n",
      "    accuracy                           0.79      1523\n",
      "   macro avg       0.79      0.77      0.77      1523\n",
      "weighted avg       0.79      0.79      0.78      1523\n",
      "\n",
      "Evaluation: RandomForestClassifier (Combine all features)\n",
      "\n",
      "Accuracy: 0.7787261982928431\n",
      "Confusion Matrix:\n",
      " [[778  96]\n",
      " [241 408]]\n",
      "Classification Report:\n",
      "               precision    recall  f1-score   support\n",
      "\n",
      "           0       0.76      0.89      0.82       874\n",
      "           1       0.81      0.63      0.71       649\n",
      "\n",
      "    accuracy                           0.78      1523\n",
      "   macro avg       0.79      0.76      0.76      1523\n",
      "weighted avg       0.78      0.78      0.77      1523\n",
      "\n"
     ]
    }
   ],
   "source": [
    "# Model Building: Random Forest\n",
    "model_rf = RandomForestClassifier()\n",
    "\n",
    "# Train and evaluate model with TF-IDF features only\n",
    "model_rf_tfidf = train_model(model_rf, X_train_tfidf, y_train)\n",
    "evaluate_trained_model(\n",
    "    model_rf_tfidf,\n",
    "    X_test_tfidf,\n",
    "    y_test,\n",
    "    'only TF-IDF Vectorization'\n",
    ")\n",
    "\n",
    "# Train and evaluate model with all features\n",
    "model_rf_all_features = train_model(model_rf, X_train_hstack, y_train)\n",
    "evaluate_trained_model(\n",
    "    model_rf_all_features,\n",
    "    X_test_hstack,\n",
    "    y_test,\n",
    "    'Combine all features'\n",
    ")"
   ]
  },
  {
   "cell_type": "code",
   "execution_count": 15,
   "metadata": {
    "tags": []
   },
   "outputs": [
    {
     "name": "stdout",
     "output_type": "stream",
     "text": [
      "Evaluation: SVC (only TF-IDF Vectorization)\n",
      "\n",
      "Accuracy: 0.8030203545633617\n",
      "Confusion Matrix:\n",
      " [[786  88]\n",
      " [212 437]]\n",
      "Classification Report:\n",
      "               precision    recall  f1-score   support\n",
      "\n",
      "           0       0.79      0.90      0.84       874\n",
      "           1       0.83      0.67      0.74       649\n",
      "\n",
      "    accuracy                           0.80      1523\n",
      "   macro avg       0.81      0.79      0.79      1523\n",
      "weighted avg       0.81      0.80      0.80      1523\n",
      "\n",
      "Evaluation: SVC (Combine all features)\n",
      "\n",
      "Accuracy: 0.5738673670387393\n",
      "Confusion Matrix:\n",
      " [[874   0]\n",
      " [649   0]]\n",
      "Classification Report:\n",
      "               precision    recall  f1-score   support\n",
      "\n",
      "           0       0.57      1.00      0.73       874\n",
      "           1       0.00      0.00      0.00       649\n",
      "\n",
      "    accuracy                           0.57      1523\n",
      "   macro avg       0.29      0.50      0.36      1523\n",
      "weighted avg       0.33      0.57      0.42      1523\n",
      "\n"
     ]
    },
    {
     "name": "stderr",
     "output_type": "stream",
     "text": [
      "/usr/local/lib/python3.8/site-packages/sklearn/metrics/_classification.py:1344: UndefinedMetricWarning: Precision and F-score are ill-defined and being set to 0.0 in labels with no predicted samples. Use `zero_division` parameter to control this behavior.\n",
      "  _warn_prf(average, modifier, msg_start, len(result))\n",
      "/usr/local/lib/python3.8/site-packages/sklearn/metrics/_classification.py:1344: UndefinedMetricWarning: Precision and F-score are ill-defined and being set to 0.0 in labels with no predicted samples. Use `zero_division` parameter to control this behavior.\n",
      "  _warn_prf(average, modifier, msg_start, len(result))\n",
      "/usr/local/lib/python3.8/site-packages/sklearn/metrics/_classification.py:1344: UndefinedMetricWarning: Precision and F-score are ill-defined and being set to 0.0 in labels with no predicted samples. Use `zero_division` parameter to control this behavior.\n",
      "  _warn_prf(average, modifier, msg_start, len(result))\n"
     ]
    }
   ],
   "source": [
    "# Model Building: Support Vector Machine\n",
    "model_svm = SVC()\n",
    "\n",
    "# Train and evaluate model with TF-IDF features only\n",
    "model_svm_tfidf = train_model(model_svm, X_train_tfidf, y_train)\n",
    "evaluate_trained_model(\n",
    "    model_svm_tfidf,\n",
    "    X_test_tfidf,\n",
    "    y_test,\n",
    "    'only TF-IDF Vectorization'\n",
    ")\n",
    "\n",
    "# Train and evaluate model with all features\n",
    "model_svm_all_features = train_model(model_svm, X_train_hstack, y_train)\n",
    "evaluate_trained_model(\n",
    "    model_svm_all_features,\n",
    "    X_test_hstack,\n",
    "    y_test,\n",
    "    'Combine all features'\n",
    ")"
   ]
  },
  {
   "cell_type": "code",
   "execution_count": 16,
   "metadata": {
    "tags": []
   },
   "outputs": [
    {
     "name": "stdout",
     "output_type": "stream",
     "text": [
      "Evaluation: KNeighborsClassifier (only TF-IDF Vectorization)\n",
      "\n",
      "Accuracy: 0.6644780039395929\n",
      "Confusion Matrix:\n",
      " [[867   7]\n",
      " [504 145]]\n",
      "Classification Report:\n",
      "               precision    recall  f1-score   support\n",
      "\n",
      "           0       0.63      0.99      0.77       874\n",
      "           1       0.95      0.22      0.36       649\n",
      "\n",
      "    accuracy                           0.66      1523\n",
      "   macro avg       0.79      0.61      0.57      1523\n",
      "weighted avg       0.77      0.66      0.60      1523\n",
      "\n",
      "Evaluation: KNeighborsClassifier (Combine all features)\n",
      "\n",
      "Accuracy: 0.6270518713066316\n",
      "Confusion Matrix:\n",
      " [[632 242]\n",
      " [326 323]]\n",
      "Classification Report:\n",
      "               precision    recall  f1-score   support\n",
      "\n",
      "           0       0.66      0.72      0.69       874\n",
      "           1       0.57      0.50      0.53       649\n",
      "\n",
      "    accuracy                           0.63      1523\n",
      "   macro avg       0.62      0.61      0.61      1523\n",
      "weighted avg       0.62      0.63      0.62      1523\n",
      "\n"
     ]
    }
   ],
   "source": [
    "# Model Building: K_Neighbors\n",
    "model_knb = KNeighborsClassifier()\n",
    "\n",
    "# Train and evaluate model with TF-IDF features only\n",
    "model_knb_tfidf = train_model(model_knb, X_train_tfidf, y_train)\n",
    "evaluate_trained_model(\n",
    "    model_knb_tfidf,\n",
    "    X_test_tfidf,\n",
    "    y_test,\n",
    "    'only TF-IDF Vectorization'\n",
    ")\n",
    "\n",
    "# Train and evaluate model with all features\n",
    "model_knb_all_features = train_model(model_knb, X_train_hstack, y_train)\n",
    "evaluate_trained_model(\n",
    "    model_knb_all_features,\n",
    "    X_test_hstack,\n",
    "    y_test,\n",
    "    'Combine all features'\n",
    ")"
   ]
  },
  {
   "cell_type": "code",
   "execution_count": null,
   "metadata": {},
   "outputs": [],
   "source": []
  }
 ],
 "metadata": {
  "kernelspec": {
   "display_name": "Python 3 (ipykernel)",
   "language": "python",
   "name": "python3"
  },
  "language_info": {
   "codemirror_mode": {
    "name": "ipython",
    "version": 3
   },
   "file_extension": ".py",
   "mimetype": "text/x-python",
   "name": "python",
   "nbconvert_exporter": "python",
   "pygments_lexer": "ipython3",
   "version": "3.8.16"
  }
 },
 "nbformat": 4,
 "nbformat_minor": 4
}
