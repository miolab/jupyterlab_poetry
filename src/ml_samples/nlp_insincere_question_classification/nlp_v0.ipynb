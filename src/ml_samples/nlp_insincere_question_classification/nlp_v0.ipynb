{
 "cells": [
  {
   "cell_type": "markdown",
   "metadata": {},
   "source": [
    "# NLP: Questions Classification\n",
    "\n",
    "ML Sample of Natural Language Processing.\n",
    "\n",
    "- For environment test and confirmation.\n",
    "\n",
    "## Dataset\n",
    "\n",
    "[Quora Insincere Questions Classification](https://www.kaggle.com/competitions/quora-insincere-questions-classification/overview)\n",
    "> Detect toxic content to improve online conversations"
   ]
  },
  {
   "cell_type": "code",
   "execution_count": null,
   "metadata": {},
   "outputs": [],
   "source": []
  }
 ],
 "metadata": {
  "kernelspec": {
   "display_name": "Python 3 (ipykernel)",
   "language": "python",
   "name": "python3"
  },
  "language_info": {
   "codemirror_mode": {
    "name": "ipython",
    "version": 3
   },
   "file_extension": ".py",
   "mimetype": "text/x-python",
   "name": "python",
   "nbconvert_exporter": "python",
   "pygments_lexer": "ipython3",
   "version": "3.10.13"
  }
 },
 "nbformat": 4,
 "nbformat_minor": 4
}
