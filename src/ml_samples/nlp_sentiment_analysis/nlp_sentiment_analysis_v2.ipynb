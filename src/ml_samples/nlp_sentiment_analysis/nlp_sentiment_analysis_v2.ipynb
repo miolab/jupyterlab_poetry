{
 "cells": [
  {
   "cell_type": "markdown",
   "metadata": {},
   "source": [
    "# NLP: Sentiment analysis (v2)\n",
    "\n",
    "ML Sample of Natural Language Processing.\n",
    "\n",
    "- For environment test and confirmation.\n",
    "\n",
    "## Dataset\n",
    "\n",
    "Bag of Words Meets Bags of Popcorn\n",
    "> Use Google's Word2Vec for movie reviews\n",
    "\n",
    "https://www.kaggle.com/c/word2vec-nlp-tutorial"
   ]
  },
  {
   "cell_type": "code",
   "execution_count": 1,
   "metadata": {
    "tags": []
   },
   "outputs": [],
   "source": [
    "import pandas as pd\n",
    "\n",
    "from string import punctuation\n",
    "from bs4 import BeautifulSoup\n",
    "import contractions \n",
    "import re\n",
    "from nltk.corpus import stopwords\n",
    "import nltk\n",
    "\n",
    "from sklearn.feature_extraction.text import TfidfVectorizer\n",
    "from sklearn.model_selection import train_test_split\n",
    "from sklearn.base import BaseEstimator\n",
    "from sklearn.metrics import accuracy_score, confusion_matrix, classification_report, precision_score\n",
    "\n",
    "from sklearn.svm import SVC\n"
   ]
  },
  {
   "cell_type": "code",
   "execution_count": 2,
   "metadata": {
    "tags": []
   },
   "outputs": [
    {
     "name": "stderr",
     "output_type": "stream",
     "text": [
      "[nltk_data] Downloading package stopwords to /root/nltk_data...\n",
      "[nltk_data]   Package stopwords is already up-to-date!\n"
     ]
    }
   ],
   "source": [
    "pd.set_option(\"display.max_colwidth\", 200)\n",
    "\n",
    "nltk.download('stopwords')\n",
    "\n",
    "STOPWORDS = stopwords.words('english')"
   ]
  },
  {
   "cell_type": "code",
   "execution_count": 3,
   "metadata": {
    "tags": []
   },
   "outputs": [
    {
     "data": {
      "text/html": [
       "<div>\n",
       "<style scoped>\n",
       "    .dataframe tbody tr th:only-of-type {\n",
       "        vertical-align: middle;\n",
       "    }\n",
       "\n",
       "    .dataframe tbody tr th {\n",
       "        vertical-align: top;\n",
       "    }\n",
       "\n",
       "    .dataframe thead th {\n",
       "        text-align: right;\n",
       "    }\n",
       "</style>\n",
       "<table border=\"1\" class=\"dataframe\">\n",
       "  <thead>\n",
       "    <tr style=\"text-align: right;\">\n",
       "      <th></th>\n",
       "      <th>id</th>\n",
       "      <th>sentiment</th>\n",
       "      <th>review</th>\n",
       "    </tr>\n",
       "  </thead>\n",
       "  <tbody>\n",
       "    <tr>\n",
       "      <th>0</th>\n",
       "      <td>5814_8</td>\n",
       "      <td>1</td>\n",
       "      <td>With all this stuff going down at the moment with MJ i've started listening to his music, watching the odd documentary here and there, watched The Wiz and watched Moonwalker again. Maybe i just wa...</td>\n",
       "    </tr>\n",
       "    <tr>\n",
       "      <th>1</th>\n",
       "      <td>2381_9</td>\n",
       "      <td>1</td>\n",
       "      <td>\\The Classic War of the Worlds\\\" by Timothy Hines is a very entertaining film that obviously goes to great effort and lengths to faithfully recreate H. G. Wells' classic book. Mr. Hines succeeds i...</td>\n",
       "    </tr>\n",
       "    <tr>\n",
       "      <th>2</th>\n",
       "      <td>7759_3</td>\n",
       "      <td>0</td>\n",
       "      <td>The film starts with a manager (Nicholas Bell) giving welcome investors (Robert Carradine) to Primal Park . A secret project mutating a primal animal using fossilized DNA, like ¨Jurassik Park¨, an...</td>\n",
       "    </tr>\n",
       "    <tr>\n",
       "      <th>3</th>\n",
       "      <td>3630_4</td>\n",
       "      <td>0</td>\n",
       "      <td>It must be assumed that those who praised this film (\\the greatest filmed opera ever,\\\" didn't I read somewhere?) either don't care for opera, don't care for Wagner, or don't care about anything e...</td>\n",
       "    </tr>\n",
       "    <tr>\n",
       "      <th>4</th>\n",
       "      <td>9495_8</td>\n",
       "      <td>1</td>\n",
       "      <td>Superbly trashy and wondrously unpretentious 80's exploitation, hooray! The pre-credits opening sequences somewhat give the false impression that we're dealing with a serious and harrowing drama, ...</td>\n",
       "    </tr>\n",
       "    <tr>\n",
       "      <th>5</th>\n",
       "      <td>8196_8</td>\n",
       "      <td>1</td>\n",
       "      <td>I dont know why people think this is such a bad movie. Its got a pretty good plot, some good action, and the change of location for Harry does not hurt either. Sure some of its offensive and gratu...</td>\n",
       "    </tr>\n",
       "    <tr>\n",
       "      <th>6</th>\n",
       "      <td>7166_2</td>\n",
       "      <td>0</td>\n",
       "      <td>This movie could have been very good, but comes up way short. Cheesy special effects and so-so acting. I could have looked past that if the story wasn't so lousy. If there was more of a background...</td>\n",
       "    </tr>\n",
       "    <tr>\n",
       "      <th>7</th>\n",
       "      <td>10633_1</td>\n",
       "      <td>0</td>\n",
       "      <td>I watched this video at a friend's house. I'm glad I did not waste money buying this one. The video cover has a scene from the 1975 movie Capricorn One. The movie starts out with several clips of ...</td>\n",
       "    </tr>\n",
       "    <tr>\n",
       "      <th>8</th>\n",
       "      <td>319_1</td>\n",
       "      <td>0</td>\n",
       "      <td>A friend of mine bought this film for £1, and even then it was grossly overpriced. Despite featuring big names such as Adam Sandler, Billy Bob Thornton and the incredibly talented Burt Young, this...</td>\n",
       "    </tr>\n",
       "    <tr>\n",
       "      <th>9</th>\n",
       "      <td>8713_10</td>\n",
       "      <td>1</td>\n",
       "      <td>&lt;br /&gt;&lt;br /&gt;This movie is full of references. Like \\Mad Max II\\\", \\\"The wild one\\\" and many others. The ladybug´s face it´s a clear reference (or tribute) to Peter Lorre. This movie is a masterpie...</td>\n",
       "    </tr>\n",
       "  </tbody>\n",
       "</table>\n",
       "</div>"
      ],
      "text/plain": [
       "        id  sentiment  \\\n",
       "0   5814_8          1   \n",
       "1   2381_9          1   \n",
       "2   7759_3          0   \n",
       "3   3630_4          0   \n",
       "4   9495_8          1   \n",
       "5   8196_8          1   \n",
       "6   7166_2          0   \n",
       "7  10633_1          0   \n",
       "8    319_1          0   \n",
       "9  8713_10          1   \n",
       "\n",
       "                                                                                                                                                                                                    review  \n",
       "0  With all this stuff going down at the moment with MJ i've started listening to his music, watching the odd documentary here and there, watched The Wiz and watched Moonwalker again. Maybe i just wa...  \n",
       "1  \\The Classic War of the Worlds\\\" by Timothy Hines is a very entertaining film that obviously goes to great effort and lengths to faithfully recreate H. G. Wells' classic book. Mr. Hines succeeds i...  \n",
       "2  The film starts with a manager (Nicholas Bell) giving welcome investors (Robert Carradine) to Primal Park . A secret project mutating a primal animal using fossilized DNA, like ¨Jurassik Park¨, an...  \n",
       "3  It must be assumed that those who praised this film (\\the greatest filmed opera ever,\\\" didn't I read somewhere?) either don't care for opera, don't care for Wagner, or don't care about anything e...  \n",
       "4  Superbly trashy and wondrously unpretentious 80's exploitation, hooray! The pre-credits opening sequences somewhat give the false impression that we're dealing with a serious and harrowing drama, ...  \n",
       "5  I dont know why people think this is such a bad movie. Its got a pretty good plot, some good action, and the change of location for Harry does not hurt either. Sure some of its offensive and gratu...  \n",
       "6  This movie could have been very good, but comes up way short. Cheesy special effects and so-so acting. I could have looked past that if the story wasn't so lousy. If there was more of a background...  \n",
       "7  I watched this video at a friend's house. I'm glad I did not waste money buying this one. The video cover has a scene from the 1975 movie Capricorn One. The movie starts out with several clips of ...  \n",
       "8  A friend of mine bought this film for £1, and even then it was grossly overpriced. Despite featuring big names such as Adam Sandler, Billy Bob Thornton and the incredibly talented Burt Young, this...  \n",
       "9  <br /><br />This movie is full of references. Like \\Mad Max II\\\", \\\"The wild one\\\" and many others. The ladybug´s face it´s a clear reference (or tribute) to Peter Lorre. This movie is a masterpie...  "
      ]
     },
     "metadata": {},
     "output_type": "display_data"
    }
   ],
   "source": [
    "# Load Train Dataset\n",
    "df_train = pd.read_csv(\n",
    "    \"./raw_data/labeledTrainData.tsv\",\n",
    "    delimiter=\"\\t\",\n",
    "    na_filter=False\n",
    ")\n",
    "\n",
    "display(df_train.head(10))"
   ]
  },
  {
   "cell_type": "code",
   "execution_count": 4,
   "metadata": {
    "tags": []
   },
   "outputs": [],
   "source": [
    "# Methods preparation\n",
    "_REGEX_PATTERN_HASHTAG = r\"#\\w+\"\n",
    "_REGEX_PATTERN_URL = r\"http\\S+\"\n",
    "_REGEX_PATTERN_MENTION = r\"@\\w+\"\n",
    "\n",
    "\n",
    "def count_text_length(text: str) -> int:\n",
    "    \"\"\"Count the given text length.\"\"\"\n",
    "    return len(text)\n",
    "\n",
    "\n",
    "def count_uppercase_words(text: str) -> int:\n",
    "    \"\"\"Count of words in uppercase, that has length 2 or more.\"\"\"\n",
    "    return len([\n",
    "        word for word in text.split()\n",
    "        if word.isupper() and len(word) > 1\n",
    "    ])\n",
    "\n",
    "\n",
    "def count_total_punctuations(text: str) -> int:\n",
    "    \"\"\"Count of all punctuations in the text.\"\"\"\n",
    "    return len([\n",
    "        char for char in text\n",
    "        if char in punctuation\n",
    "    ])\n",
    "\n",
    "\n",
    "def count_hashtags_in_text(text: str) -> int:\n",
    "    \"\"\"Count the number of hashtags in the given text.\"\"\"\n",
    "    return len([\n",
    "        word\n",
    "        for word in text.split()\n",
    "        if re.fullmatch(_REGEX_PATTERN_HASHTAG, word)\n",
    "    ])\n",
    "\n",
    "\n",
    "def count_urls_in_text(text: str) -> int:\n",
    "    \"\"\"Count the number of URLs in the given text.\"\"\"\n",
    "    return len([\n",
    "        word\n",
    "        for word in text.split()\n",
    "        if re.fullmatch(_REGEX_PATTERN_URL, word)\n",
    "    ])\n",
    "\n",
    "\n",
    "def count_mentions_in_text(text: str) -> int:\n",
    "    \"\"\"Count the number of mentions in the given text.\"\"\"\n",
    "    return len([\n",
    "        word\n",
    "        for word in text.split()\n",
    "        if re.fullmatch(_REGEX_PATTERN_MENTION, word)\n",
    "    ])\n",
    "\n",
    "\n",
    "def clean_text(text: str) -> str:\n",
    "    \"\"\"Clean text.\"\"\"\n",
    "    text = clean_text_html_tag_removing(text)\n",
    "    text = _clean_text_expand_contractions(text)\n",
    "    text = _clean_text_lowercase_conversion(text)\n",
    "    text = _clean_text_non_alpha_numeric_replacing(text)\n",
    "    text = _clean_text_stopwords_removing(text)\n",
    "    return text\n",
    "    \n",
    "\n",
    "def clean_text_html_tag_removing(text: str) -> str:\n",
    "    \"\"\"Clean text with removing HTML tags.\"\"\"\n",
    "    soup = BeautifulSoup(text, \"html.parser\")\n",
    "    return soup.get_text()\n",
    "\n",
    "\n",
    "def _clean_text_expand_contractions(text: str) -> str:\n",
    "    \"\"\"Clean text with expansion contractions.\"\"\"\n",
    "    return contractions.fix(text)\n",
    "\n",
    "\n",
    "def _clean_text_lowercase_conversion(text: str) -> str:\n",
    "    \"\"\"Clean text with lower case conversion.\"\"\"\n",
    "    return text.lower()\n",
    "\n",
    "\n",
    "def _clean_text_non_alpha_numeric_replacing(text: str) -> str:\n",
    "    \"\"\"Clean text by replacing non-alphanumeric characters with spaces.\"\"\"\n",
    "    return re.sub(\"[^a-zA-Z0-9]\", \" \", text)\n",
    "\n",
    "\n",
    "def _clean_text_stopwords_removing(text: str) -> str:\n",
    "    \"\"\"Clean text with removing stopwords.\"\"\"\n",
    "    words = text.split()\n",
    "    words = [\n",
    "        word for word in words if word not in STOPWORDS\n",
    "    ]\n",
    "    return ' '.join(words)\n",
    "\n",
    "\n",
    "def evaluate_trained_model(\n",
    "    model: BaseEstimator,\n",
    "    X_val_data: list,\n",
    "    y_val_data: list\n",
    ") -> None:\n",
    "    \"\"\"Evaluate a trained Machine Learning model using various metrics\n",
    "\n",
    "    This function provides:\n",
    "    - Accuracy Score: Measures how accurately the class labels are predicted.\n",
    "    - Precision Score: Evaluates how many of the items predicted as positive are actually positive.\n",
    "    - Confusion Matrix: Provides a matrix representing TP, FP, FN, TN for each class.\n",
    "    - Classification Report: Generates a detailed report including Precision, Recall, F1-score, and Support for each class.\n",
    "\n",
    "    Args:\n",
    "        model: Trained machine learning model.\n",
    "        X_test_data, y_test_data: Test data and labels.\n",
    "    \"\"\"\n",
    "    y_pred = model.predict(X_val_data)\n",
    "\n",
    "    print(f\"Evaluation: {model.__class__.__name__}\\n\")  \n",
    "    print(\"Accuracy:\", accuracy_score(y_val_data, y_pred))\n",
    "    print(\"Precision:\", precision_score(y_val_data, y_pred))\n",
    "    print(\"Confusion Matrix:\\n\", confusion_matrix(y_val_data, y_pred))\n",
    "    print(\"Classification Report:\\n\", classification_report(y_val_data, y_pred))\n"
   ]
  },
  {
   "cell_type": "code",
   "execution_count": 5,
   "metadata": {
    "tags": []
   },
   "outputs": [
    {
     "name": "stdout",
     "output_type": "stream",
     "text": [
      "0    2302\n",
      "1     946\n",
      "2    2449\n",
      "3    2245\n",
      "4    2231\n",
      "Name: text_length, dtype: int64\n"
     ]
    }
   ],
   "source": [
    "# EDA: Count text length\n",
    "df_train['text_length'] = df_train['review'].apply(count_text_length)\n",
    "\n",
    "print(df_train['text_length'].head())"
   ]
  },
  {
   "cell_type": "code",
   "execution_count": 6,
   "metadata": {
    "tags": []
   },
   "outputs": [
    {
     "name": "stdout",
     "output_type": "stream",
     "text": [
      "0    9\n",
      "1    4\n",
      "2    2\n",
      "3    0\n",
      "4    0\n",
      "Name: uppercase_words_count, dtype: int64\n",
      "14662\n"
     ]
    }
   ],
   "source": [
    "# EDA: Count of words in uppercase\n",
    "df_train['uppercase_words_count'] = df_train['review'].apply(count_uppercase_words)\n",
    "\n",
    "print(df_train['uppercase_words_count'].head())\n",
    "print(\n",
    "    df_train[df_train['uppercase_words_count'] >= 1].shape[0]\n",
    ")"
   ]
  },
  {
   "cell_type": "code",
   "execution_count": 7,
   "metadata": {
    "tags": []
   },
   "outputs": [
    {
     "name": "stderr",
     "output_type": "stream",
     "text": [
      "/tmp/ipykernel_736/450432483.py:67: MarkupResemblesLocatorWarning: The input looks more like a filename than markup. You may want to open this file and pass the filehandle into Beautiful Soup.\n",
      "  soup = BeautifulSoup(text, \"html.parser\")\n"
     ]
    },
    {
     "name": "stdout",
     "output_type": "stream",
     "text": [
      "0    43\n",
      "1    42\n",
      "2    65\n",
      "3    82\n",
      "4    66\n",
      "Name: punctuations_count, dtype: int64\n"
     ]
    }
   ],
   "source": [
    "# EDA: Count of all punctuations in the text\n",
    "df_train['punctuations_count'] = df_train['review'].apply(\n",
    "    clean_text_html_tag_removing\n",
    ").apply(\n",
    "    count_total_punctuations\n",
    ")\n",
    "\n",
    "print(df_train['punctuations_count'].head())"
   ]
  },
  {
   "cell_type": "code",
   "execution_count": 8,
   "metadata": {
    "tags": []
   },
   "outputs": [
    {
     "name": "stdout",
     "output_type": "stream",
     "text": [
      "0    0\n",
      "1    0\n",
      "2    0\n",
      "3    0\n",
      "4    0\n",
      "Name: hashtags_count, dtype: int64\n",
      "81\n"
     ]
    }
   ],
   "source": [
    "# EDA: Count hashtags\n",
    "df_train['hashtags_count'] = df_train['review'].apply(count_hashtags_in_text)\n",
    "\n",
    "print(df_train['hashtags_count'].head())\n",
    "print(\n",
    "    df_train[df_train['hashtags_count'] >= 1].shape[0]\n",
    ")"
   ]
  },
  {
   "cell_type": "code",
   "execution_count": 9,
   "metadata": {
    "tags": []
   },
   "outputs": [
    {
     "name": "stdout",
     "output_type": "stream",
     "text": [
      "0    0\n",
      "1    0\n",
      "2    0\n",
      "3    0\n",
      "4    0\n",
      "Name: urls_count, dtype: int64\n",
      "45\n"
     ]
    }
   ],
   "source": [
    "# EDA: Count URLs\n",
    "df_train['urls_count'] = df_train['review'].apply(count_urls_in_text)\n",
    "\n",
    "print(df_train['urls_count'].head())\n",
    "print(\n",
    "    df_train[df_train['urls_count'] >= 1].shape[0]\n",
    ")"
   ]
  },
  {
   "cell_type": "code",
   "execution_count": 10,
   "metadata": {
    "tags": []
   },
   "outputs": [
    {
     "name": "stdout",
     "output_type": "stream",
     "text": [
      "0    0\n",
      "1    0\n",
      "2    0\n",
      "3    0\n",
      "4    0\n",
      "Name: mentions_count, dtype: int64\n",
      "0\n"
     ]
    }
   ],
   "source": [
    "# EDA: Count mentions\n",
    "df_train['mentions_count'] = df_train['review'].apply(count_mentions_in_text)\n",
    "\n",
    "print(df_train['mentions_count'].head())\n",
    "print(\n",
    "    df_train[df_train['mentions_count'] >= 1].shape[0]\n",
    ")"
   ]
  },
  {
   "cell_type": "code",
   "execution_count": 11,
   "metadata": {
    "tags": []
   },
   "outputs": [
    {
     "name": "stderr",
     "output_type": "stream",
     "text": [
      "/tmp/ipykernel_736/450432483.py:67: MarkupResemblesLocatorWarning: The input looks more like a filename than markup. You may want to open this file and pass the filehandle into Beautiful Soup.\n",
      "  soup = BeautifulSoup(text, \"html.parser\")\n"
     ]
    },
    {
     "data": {
      "text/html": [
       "<div>\n",
       "<style scoped>\n",
       "    .dataframe tbody tr th:only-of-type {\n",
       "        vertical-align: middle;\n",
       "    }\n",
       "\n",
       "    .dataframe tbody tr th {\n",
       "        vertical-align: top;\n",
       "    }\n",
       "\n",
       "    .dataframe thead th {\n",
       "        text-align: right;\n",
       "    }\n",
       "</style>\n",
       "<table border=\"1\" class=\"dataframe\">\n",
       "  <thead>\n",
       "    <tr style=\"text-align: right;\">\n",
       "      <th></th>\n",
       "      <th>id</th>\n",
       "      <th>sentiment</th>\n",
       "      <th>review</th>\n",
       "      <th>text_length</th>\n",
       "      <th>uppercase_words_count</th>\n",
       "      <th>punctuations_count</th>\n",
       "      <th>hashtags_count</th>\n",
       "      <th>urls_count</th>\n",
       "      <th>mentions_count</th>\n",
       "    </tr>\n",
       "  </thead>\n",
       "  <tbody>\n",
       "    <tr>\n",
       "      <th>0</th>\n",
       "      <td>5814_8</td>\n",
       "      <td>1</td>\n",
       "      <td>stuff going moment mj started listening music watching odd documentary watched wiz watched moonwalker maybe want get certain insight guy thought really cool eighties maybe make mind whether guilty...</td>\n",
       "      <td>2302</td>\n",
       "      <td>9</td>\n",
       "      <td>43</td>\n",
       "      <td>0</td>\n",
       "      <td>0</td>\n",
       "      <td>0</td>\n",
       "    </tr>\n",
       "    <tr>\n",
       "      <th>1</th>\n",
       "      <td>2381_9</td>\n",
       "      <td>1</td>\n",
       "      <td>classic war worlds timothy hines entertaining film obviously goes great effort lengths faithfully recreate h g wells classic book mr hines succeeds watched film appreciated fact standard predictab...</td>\n",
       "      <td>946</td>\n",
       "      <td>4</td>\n",
       "      <td>42</td>\n",
       "      <td>0</td>\n",
       "      <td>0</td>\n",
       "      <td>0</td>\n",
       "    </tr>\n",
       "    <tr>\n",
       "      <th>2</th>\n",
       "      <td>7759_3</td>\n",
       "      <td>0</td>\n",
       "      <td>film starts manager nicholas bell giving welcome investors robert carradine primal park secret project mutating primal animal using fossilized dna like jurassik park scientists resurrect one natur...</td>\n",
       "      <td>2449</td>\n",
       "      <td>2</td>\n",
       "      <td>65</td>\n",
       "      <td>0</td>\n",
       "      <td>0</td>\n",
       "      <td>0</td>\n",
       "    </tr>\n",
       "    <tr>\n",
       "      <th>3</th>\n",
       "      <td>3630_4</td>\n",
       "      <td>0</td>\n",
       "      <td>must assumed praised film greatest filmed opera ever read somewhere either care opera care wagner care anything except desire appear cultured either representation wagner swan song movie strikes u...</td>\n",
       "      <td>2245</td>\n",
       "      <td>0</td>\n",
       "      <td>82</td>\n",
       "      <td>0</td>\n",
       "      <td>0</td>\n",
       "      <td>0</td>\n",
       "    </tr>\n",
       "    <tr>\n",
       "      <th>4</th>\n",
       "      <td>9495_8</td>\n",
       "      <td>1</td>\n",
       "      <td>superbly trashy wondrously unpretentious 80 exploitation hooray pre credits opening sequences somewhat give false impression dealing serious harrowing drama need fear barely ten minutes later neck...</td>\n",
       "      <td>2231</td>\n",
       "      <td>0</td>\n",
       "      <td>66</td>\n",
       "      <td>0</td>\n",
       "      <td>0</td>\n",
       "      <td>0</td>\n",
       "    </tr>\n",
       "    <tr>\n",
       "      <th>5</th>\n",
       "      <td>8196_8</td>\n",
       "      <td>1</td>\n",
       "      <td>know people think bad movie got pretty good plot good action change location harry hurt either sure offensive gratuitous movie like eastwood good form dirty harry liked pat hingle movie small town...</td>\n",
       "      <td>441</td>\n",
       "      <td>5</td>\n",
       "      <td>11</td>\n",
       "      <td>0</td>\n",
       "      <td>0</td>\n",
       "      <td>0</td>\n",
       "    </tr>\n",
       "    <tr>\n",
       "      <th>6</th>\n",
       "      <td>7166_2</td>\n",
       "      <td>0</td>\n",
       "      <td>movie could good comes way short cheesy special effects acting could looked past story lousy background story would better plot centers around evil druid witch linked woman gets migraines movie dr...</td>\n",
       "      <td>605</td>\n",
       "      <td>1</td>\n",
       "      <td>17</td>\n",
       "      <td>0</td>\n",
       "      <td>0</td>\n",
       "      <td>0</td>\n",
       "    </tr>\n",
       "    <tr>\n",
       "      <th>7</th>\n",
       "      <td>10633_1</td>\n",
       "      <td>0</td>\n",
       "      <td>watched video friend house glad waste money buying one video cover scene 1975 movie capricorn one movie starts several clips rocket blow ups related manned flight sibrel smoking gun short video cl...</td>\n",
       "      <td>728</td>\n",
       "      <td>1</td>\n",
       "      <td>21</td>\n",
       "      <td>0</td>\n",
       "      <td>0</td>\n",
       "      <td>0</td>\n",
       "    </tr>\n",
       "    <tr>\n",
       "      <th>8</th>\n",
       "      <td>319_1</td>\n",
       "      <td>0</td>\n",
       "      <td>friend mine bought film 1 even grossly overpriced despite featuring big names adam sandler billy bob thornton incredibly talented burt young film funny taking chisel hammering straight earhole use...</td>\n",
       "      <td>963</td>\n",
       "      <td>0</td>\n",
       "      <td>25</td>\n",
       "      <td>0</td>\n",
       "      <td>0</td>\n",
       "      <td>0</td>\n",
       "    </tr>\n",
       "    <tr>\n",
       "      <th>9</th>\n",
       "      <td>8713_10</td>\n",
       "      <td>1</td>\n",
       "      <td>movie full references like mad max ii wild one many others ladybug face clear reference tribute peter lorre movie masterpiece talk much future</td>\n",
       "      <td>242</td>\n",
       "      <td>1</td>\n",
       "      <td>16</td>\n",
       "      <td>0</td>\n",
       "      <td>0</td>\n",
       "      <td>0</td>\n",
       "    </tr>\n",
       "  </tbody>\n",
       "</table>\n",
       "</div>"
      ],
      "text/plain": [
       "        id  sentiment  \\\n",
       "0   5814_8          1   \n",
       "1   2381_9          1   \n",
       "2   7759_3          0   \n",
       "3   3630_4          0   \n",
       "4   9495_8          1   \n",
       "5   8196_8          1   \n",
       "6   7166_2          0   \n",
       "7  10633_1          0   \n",
       "8    319_1          0   \n",
       "9  8713_10          1   \n",
       "\n",
       "                                                                                                                                                                                                    review  \\\n",
       "0  stuff going moment mj started listening music watching odd documentary watched wiz watched moonwalker maybe want get certain insight guy thought really cool eighties maybe make mind whether guilty...   \n",
       "1  classic war worlds timothy hines entertaining film obviously goes great effort lengths faithfully recreate h g wells classic book mr hines succeeds watched film appreciated fact standard predictab...   \n",
       "2  film starts manager nicholas bell giving welcome investors robert carradine primal park secret project mutating primal animal using fossilized dna like jurassik park scientists resurrect one natur...   \n",
       "3  must assumed praised film greatest filmed opera ever read somewhere either care opera care wagner care anything except desire appear cultured either representation wagner swan song movie strikes u...   \n",
       "4  superbly trashy wondrously unpretentious 80 exploitation hooray pre credits opening sequences somewhat give false impression dealing serious harrowing drama need fear barely ten minutes later neck...   \n",
       "5  know people think bad movie got pretty good plot good action change location harry hurt either sure offensive gratuitous movie like eastwood good form dirty harry liked pat hingle movie small town...   \n",
       "6  movie could good comes way short cheesy special effects acting could looked past story lousy background story would better plot centers around evil druid witch linked woman gets migraines movie dr...   \n",
       "7  watched video friend house glad waste money buying one video cover scene 1975 movie capricorn one movie starts several clips rocket blow ups related manned flight sibrel smoking gun short video cl...   \n",
       "8  friend mine bought film 1 even grossly overpriced despite featuring big names adam sandler billy bob thornton incredibly talented burt young film funny taking chisel hammering straight earhole use...   \n",
       "9                                                           movie full references like mad max ii wild one many others ladybug face clear reference tribute peter lorre movie masterpiece talk much future   \n",
       "\n",
       "   text_length  uppercase_words_count  punctuations_count  hashtags_count  \\\n",
       "0         2302                      9                  43               0   \n",
       "1          946                      4                  42               0   \n",
       "2         2449                      2                  65               0   \n",
       "3         2245                      0                  82               0   \n",
       "4         2231                      0                  66               0   \n",
       "5          441                      5                  11               0   \n",
       "6          605                      1                  17               0   \n",
       "7          728                      1                  21               0   \n",
       "8          963                      0                  25               0   \n",
       "9          242                      1                  16               0   \n",
       "\n",
       "   urls_count  mentions_count  \n",
       "0           0               0  \n",
       "1           0               0  \n",
       "2           0               0  \n",
       "3           0               0  \n",
       "4           0               0  \n",
       "5           0               0  \n",
       "6           0               0  \n",
       "7           0               0  \n",
       "8           0               0  \n",
       "9           0               0  "
      ]
     },
     "metadata": {},
     "output_type": "display_data"
    }
   ],
   "source": [
    "# Data Preprocessing\n",
    "df_train['review'] = df_train['review'].apply(clean_text)\n",
    "\n",
    "display(df_train.head(10))"
   ]
  },
  {
   "cell_type": "code",
   "execution_count": 12,
   "metadata": {
    "tags": []
   },
   "outputs": [],
   "source": [
    "# Feature Engineering: TF-IDF Vectorization\n",
    "vectorizer = TfidfVectorizer(max_features=5_000)\n",
    "\n",
    "X = vectorizer.fit_transform(df_train['review'])\n",
    "y = df_train['sentiment']"
   ]
  },
  {
   "cell_type": "code",
   "execution_count": 13,
   "metadata": {
    "tags": []
   },
   "outputs": [],
   "source": [
    "# Model Building: split data\n",
    "X_train, X_val, y_train, y_val = train_test_split(\n",
    "    X,\n",
    "    y,\n",
    "    test_size=0.2,\n",
    "    random_state=42\n",
    ")"
   ]
  },
  {
   "cell_type": "code",
   "execution_count": 14,
   "metadata": {
    "tags": []
   },
   "outputs": [
    {
     "name": "stdout",
     "output_type": "stream",
     "text": [
      "Evaluation: SVC\n",
      "\n",
      "Accuracy: 0.8884\n",
      "Precision: 0.8804811796662786\n",
      "Confusion Matrix:\n",
      " [[2173  308]\n",
      " [ 250 2269]]\n",
      "Classification Report:\n",
      "               precision    recall  f1-score   support\n",
      "\n",
      "           0       0.90      0.88      0.89      2481\n",
      "           1       0.88      0.90      0.89      2519\n",
      "\n",
      "    accuracy                           0.89      5000\n",
      "   macro avg       0.89      0.89      0.89      5000\n",
      "weighted avg       0.89      0.89      0.89      5000\n",
      "\n"
     ]
    }
   ],
   "source": [
    "# Model Building: Support Vector Machine\n",
    "model_svm = SVC()\n",
    "model_svm.fit(X_train, y_train)\n",
    "\n",
    "# Evaluation\n",
    "evaluate_trained_model(\n",
    "    model_svm,\n",
    "    X_val,\n",
    "    y_val\n",
    ")"
   ]
  },
  {
   "cell_type": "code",
   "execution_count": null,
   "metadata": {},
   "outputs": [],
   "source": []
  }
 ],
 "metadata": {
  "kernelspec": {
   "display_name": "Python 3 (ipykernel)",
   "language": "python",
   "name": "python3"
  },
  "language_info": {
   "codemirror_mode": {
    "name": "ipython",
    "version": 3
   },
   "file_extension": ".py",
   "mimetype": "text/x-python",
   "name": "python",
   "nbconvert_exporter": "python",
   "pygments_lexer": "ipython3",
   "version": "3.8.18"
  }
 },
 "nbformat": 4,
 "nbformat_minor": 4
}
